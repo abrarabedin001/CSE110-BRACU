{
 "cells": [
  {
   "cell_type": "markdown",
   "metadata": {
    "id": "oMYzsTcnHEll"
   },
   "source": [
    "# CSE110 Assignment 6\n",
    "\n",
    "\n",
    "## Write the Python code of the following problems:\n",
    "**<font color='red'>[MUST MAINTAIN VARIABLE NAMING CONVENTIONS FOR ALL THE TASKS]</font>**"
   ]
  },
  {
   "cell_type": "markdown",
   "metadata": {
    "id": "jT-t2zlnHEll"
   },
   "source": [
    "### Task 1\n",
    "\n",
    "Given a list named my_list. <br/>\n",
    "my_list=[10,1,20,3,6,2,5,11,15,2,12,14,17,18,29] <br/>\n",
    "Now use bubble sort to sort my_list into ascending order.\n",
    "\n",
    "**Output**<br/>\n",
    "[1, 2, 2, 3, 5, 6, 10, 11, 12, 14, 15, 17, 18, 20, 29]"
   ]
  },
  {
   "cell_type": "code",
   "execution_count": 3,
   "metadata": {
    "colab": {
     "base_uri": "https://localhost:8080/"
    },
    "id": "7qXVakLgHElm",
    "outputId": "50f5f131-5212-417b-857f-f9cba4b8a0cf"
   },
   "outputs": [
    {
     "name": "stdout",
     "output_type": "stream",
     "text": [
      "[1, 2, 2, 3, 5, 6, 10, 11, 12, 14, 15, 17, 18, 20, 29]\n"
     ]
    }
   ],
   "source": [
    "#todo \n",
    "my_list = [10,1,20,3,6,2,5,11,15,2,12,14,17,18,29]\n",
    "def bubbleSort(arr):\n",
    "  for r in range(len(arr)):\n",
    "    for j in range(0,len(arr)-1-r):\n",
    "      if arr[j]>arr[j+1]:\n",
    "        temp = arr[j+1]\n",
    "        arr[j+1] = arr[j]\n",
    "        arr[j] = temp\n",
    "  print(arr)\n",
    "bubbleSort(my_list)"
   ]
  },
  {
   "cell_type": "markdown",
   "metadata": {
    "id": "w1QgeWd2HElp"
   },
   "source": [
    "### Task 2\n",
    "\n",
    "Given a list named my_list. <br/>\n",
    "my_list=[10,1,20,3,6,2,5,11,15,2,12,14,17,18,29] <br/>\n",
    "Now use selection sort to sort my_list into ascending order.\n",
    "\n",
    "**Output**<br/>\n",
    "[1, 2, 2, 3, 5, 6, 10, 11, 12, 14, 15, 17, 18, 20, 29]\n",
    "\n"
   ]
  },
  {
   "cell_type": "code",
   "execution_count": 8,
   "metadata": {
    "colab": {
     "base_uri": "https://localhost:8080/"
    },
    "id": "am0B_8ICHElq",
    "outputId": "6225993c-e5c8-4f5e-a518-7c4981323e08"
   },
   "outputs": [
    {
     "name": "stdout",
     "output_type": "stream",
     "text": [
      "[1, 2, 2, 3, 5, 6, 10, 11, 12, 14, 15, 17, 18, 20, 29]\n"
     ]
    }
   ],
   "source": [
    "#todo \n",
    "my_list=[10,1,20,3,6,2,5,11,15,2,12,14,17,18,29]\n",
    "def selectionSort(arr):\n",
    "  for r in range(len(arr)):\n",
    "    indexOflowest = r\n",
    "    lowest = arr[r]\n",
    "    for j in range(r+1,len(arr)):\n",
    "      if lowest > arr[j]:\n",
    "        lowest = arr[j]\n",
    "        # print(\"arr[j]:\",arr[j],\", lowestindex:\",j)\n",
    "        indexOflowest = j      \n",
    "    temp = arr[r]\n",
    "    arr[r] = lowest\n",
    "    arr[indexOflowest] = temp\n",
    "  \n",
    "  print(arr)\n",
    "selectionSort(my_list)\n"
   ]
  },
  {
   "cell_type": "markdown",
   "metadata": {
    "id": "j4ffr2CAHElt"
   },
   "source": [
    "### Task  3\n",
    "\n",
    "Given a list named my_list. <br/>\n",
    "my_list=[10,1,20,3,6,2,5,11,15,2,12,14,17,18,29] <br/>\n",
    "Now use any of the two sorts used above to sort the list in descending order.\n",
    "\n",
    "**Output**<br/>\n",
    "[29, 20, 18, 17, 15, 14, 12, 11, 10, 6, 5, 3, 2, 2, 1]\n"
   ]
  },
  {
   "cell_type": "code",
   "execution_count": null,
   "metadata": {
    "colab": {
     "base_uri": "https://localhost:8080/"
    },
    "id": "n2X3YR-_HElt",
    "outputId": "140bfc33-9ea6-4025-cb33-8630544c392b"
   },
   "outputs": [
    {
     "name": "stdout",
     "output_type": "stream",
     "text": [
      "[29, 1, 20, 3, 6, 2, 5, 11, 15, 2, 12, 14, 17, 18, 10]\n",
      "[29, 20, 1, 3, 6, 2, 5, 11, 15, 2, 12, 14, 17, 18, 10]\n",
      "[29, 20, 18, 3, 6, 2, 5, 11, 15, 2, 12, 14, 17, 1, 10]\n",
      "[29, 20, 18, 17, 6, 2, 5, 11, 15, 2, 12, 14, 3, 1, 10]\n",
      "[29, 20, 18, 17, 15, 2, 5, 11, 6, 2, 12, 14, 3, 1, 10]\n",
      "[29, 20, 18, 17, 15, 14, 5, 11, 6, 2, 12, 2, 3, 1, 10]\n",
      "[29, 20, 18, 17, 15, 14, 12, 11, 6, 2, 5, 2, 3, 1, 10]\n",
      "[29, 20, 18, 17, 15, 14, 12, 11, 6, 2, 5, 2, 3, 1, 10]\n",
      "[29, 20, 18, 17, 15, 14, 12, 11, 10, 2, 5, 2, 3, 1, 6]\n",
      "[29, 20, 18, 17, 15, 14, 12, 11, 10, 6, 5, 2, 3, 1, 2]\n",
      "[29, 20, 18, 17, 15, 14, 12, 11, 10, 6, 5, 2, 3, 1, 2]\n",
      "[29, 20, 18, 17, 15, 14, 12, 11, 10, 6, 5, 3, 2, 1, 2]\n",
      "[29, 20, 18, 17, 15, 14, 12, 11, 10, 6, 5, 3, 2, 1, 2]\n",
      "[29, 20, 18, 17, 15, 14, 12, 11, 10, 6, 5, 3, 2, 2, 1]\n",
      "[29, 20, 18, 17, 15, 14, 12, 11, 10, 6, 5, 3, 2, 2, 1]\n"
     ]
    }
   ],
   "source": [
    "#todo\n",
    "myarr = [10,1,20,3,6,2,5,11,15,2,12,14,17,18,29]\n",
    "def selectionSortDec(arr):\n",
    "  for r in range(len(arr)):\n",
    "    largest = arr[r]\n",
    "    index = r\n",
    "    for j in range(r+1,len(arr)):\n",
    "      if largest < arr[j]:\n",
    "        largest = arr[j]\n",
    "        index = j\n",
    "    temp = arr[r]\n",
    "    arr[r] = arr[index]\n",
    "    arr[index] = temp\n",
    "    return arr\n",
    "    print(arr)\n",
    "selectionSortDec(myarr)"
   ]
  },
  {
   "cell_type": "markdown",
   "metadata": {
    "id": "9iYiiTWWHElw"
   },
   "source": [
    "### Task 4\n",
    "\n",
    "Suppose you have a sitting arrangement of the students of the final exam in a list. The list contains the last two digits of their roll number.<br/>\n",
    "\n",
    "sitting_list=[10,30,20,70,11,15,22,16,58,100,12,56,70,80] <br/>\n",
    "\n",
    "Now you want to organize the sitting arrangement. You decided to sort all the students in the even indices into ascending order and all the students in the odd indices  into descending order.  <br/>\n",
    "\n",
    "So write a python program that organizes the list for you the way you decided.<br/>\n",
    "\n",
    "\n",
    "**Sample Output**<br/>\n",
    "[10, 100, 11, 80, 12, 70, 20, 56, 22, 30, 58, 16, 70, 15]"
   ]
  },
  {
   "cell_type": "code",
   "execution_count": null,
   "metadata": {
    "colab": {
     "base_uri": "https://localhost:8080/"
    },
    "id": "nPdUAKDJHElw",
    "outputId": "2b32c990-b2d7-4d79-b89f-ed2b30927e56"
   },
   "outputs": [
    {
     "name": "stdout",
     "output_type": "stream",
     "text": [
      "[10, 100, 11, 80, 12, 70, 20, 56, 22, 30, 58, 16, 70, 15]\n"
     ]
    }
   ],
   "source": [
    "#todo\n",
    "newArr = [10, 100, 11, 80, 12, 70, 20, 56, 22, 30, 58, 16, 70, 15]\n",
    "def funcySort(arr):\n",
    "   def selectionSort(arr):  #this fuction will sort accending order\n",
    "    for r in range(len(arr)):\n",
    "      lowest = arr[r]                                      \n",
    "      indexOflowest = r\n",
    "      for j in range(r+1,len(arr)):\n",
    "        if lowest > arr[j]:\n",
    "          lowest = arr[j]\n",
    "          indexOflowest = j      \n",
    "      temp = arr[r]\n",
    "      arr[r] = lowest\n",
    "      arr[indexOflowest] = temp\n",
    "      return arr\n",
    "      print(arr)\n",
    "  def selectionSortDec(arr):    #this fuction will sort descending order\n",
    "\n",
    "    for r in range(len(arr)):   \n",
    "      largest = arr[r]\n",
    "      index = r\n",
    "      for j in range(r+1,len(arr)):\n",
    "        if largest < arr[j]:\n",
    "          largest = arr[j]\n",
    "          index = j\n",
    "      temp = arr[r]\n",
    "      arr[r] = arr[index]\n",
    "      arr[index] = temp\n",
    "      return arr\n",
    "      print(arr)\n",
    "  oddArr = []\n",
    "  evenArr = []\n",
    "  newArr = []\n",
    "  for r in range(len(arr)):     #seperating the values in odd and enven indices\n",
    "    if r%2 == 0:\n",
    "      oddArr.append(arr[r])\n",
    "    else:\n",
    "      evenArr.append(arr[r])\n",
    "  oddArr = selectionSort(oddArr)        #sorting them according to weather they are odd or even\n",
    "  evenArr = selectionSortDec(evenArr)\n",
    "  for r in range(len(oddArr)):          #combining them back again to form the final list\n",
    "    newArr.append(oddArr[r])\n",
    "    newArr.append(evenArr[r])\n",
    "  print(newArr)\n",
    "funcySort(newArr)"
   ]
  },
  {
   "cell_type": "markdown",
   "metadata": {
    "id": "oVR1Tsa0HElz"
   },
   "source": [
    "### Task 5\n",
    "\n",
    "Suppose a list contains the final exam results of CSE110, PHY111, and MAT110 of each student in a listed form. Your task is to sort the list based on a course name that will be given by the user and print the names after sorting. <br/>\n",
    "\n",
    "For example, a list looks like <br/>\n",
    "lst = [ [‘Farzad’,95,87,91] , [‘Mahjabin’,92,90,83], [‘Sadman’,87,92,80], [‘Nakhla’,85,94,90] ] <br/>\n",
    "where for each list, 1st index is name, 2nd index is CSE110, 3rd index is PHY111 and 4th index is MAT110. \n",
    "\n",
    "=====================================================\n",
    "\n",
    "**Hint:**<br/>\n",
    "create a function for sorting, then call it everytime instead of rewriting the code.\n",
    "\n",
    "Get the data in the individual lists from the givennested list.\n",
    "\n",
    "=====================================================\n",
    "\n",
    "**Sample Input**<br/>\n",
    "MAT110\n",
    "\n",
    "**Sample Output**<br/>\n",
    "Farzad <br/>\n",
    "Nakhla <br/>\n",
    "Mahjabin <br/>\n",
    "Sadman\n",
    "\n",
    "\n"
   ]
  },
  {
   "cell_type": "code",
   "execution_count": null,
   "metadata": {
    "colab": {
     "base_uri": "https://localhost:8080/"
    },
    "id": "539b2P1NHElz",
    "outputId": "372be433-8e89-44ed-992c-66cf2b254bb9"
   },
   "outputs": [
    {
     "name": "stdout",
     "output_type": "stream",
     "text": [
      "MAT110\n",
      "Farzad\n",
      "Nakhla\n",
      "Mahjabin\n",
      "Sadman\n"
     ]
    }
   ],
   "source": [
    "#todo\n",
    "\n",
    "def sortList():\n",
    "  my_list = [['Farzad',95,87,91] , ['Mahjabin',92,90,83], ['Sadman',87,92,80], ['Nakhla',85,94,90] ]\n",
    "  course = input()\n",
    "  if course == \"CSE110\":\n",
    "    index = 1\n",
    "  if course == \"PHY111\":\n",
    "    index = 2\n",
    "  if course == \"MAT110\":\n",
    "    index = 3\n",
    "  def sortList(arr,index):\n",
    "    for r in range(len(arr)):\n",
    "      largest = arr[r][index]\n",
    "      largestIndex = r\n",
    "      for j in range(r+1,len(arr)):\n",
    "        if largest < arr[j][index]:\n",
    "          largest = arr[j][index]\n",
    "          largestIndex = j\n",
    "      temp = arr[r]\n",
    "      arr[r] = arr[largestIndex]\n",
    "      arr[largestIndex] = temp \n",
    "    return arr\n",
    "  newArr = sortList(my_list,index)\n",
    "  for r in newArr:\n",
    "    print(r[0])\n",
    "  \n",
    "sortList()\n",
    "  "
   ]
  },
  {
   "cell_type": "markdown",
   "metadata": {
    "id": "B0Rqbyi4HEl2"
   },
   "source": [
    "### Task 6\n",
    "\n",
    "Suppose you have a list named my_list. Your task is to sort the list and print the count of numbers that have changed their position. <br/>\n",
    "my_list = [4,2,3,1,6,5] <br/>\n",
    "Sorted list would be [1,2,3,4,5,6] where 4 numbers have changed their position.\n",
    "\n",
    "\n",
    "**Sample Output**<br/>\n",
    "4"
   ]
  },
  {
   "cell_type": "code",
   "execution_count": null,
   "metadata": {
    "colab": {
     "base_uri": "https://localhost:8080/"
    },
    "id": "AMc8jAa7HEl2",
    "outputId": "8cf1dc78-98f6-4fd5-ee36-64197cc4ef77"
   },
   "outputs": [
    {
     "name": "stdout",
     "output_type": "stream",
     "text": [
      "4\n"
     ]
    }
   ],
   "source": [
    "#todo\n",
    "def selectionSort(arr):\n",
    "  count = 0\n",
    "  for r in range(len(arr)):\n",
    "    lowest = arr[r]\n",
    "    indexOflowest = r\n",
    "    for j in range(r+1,len(arr)):\n",
    "      if lowest > arr[j]:\n",
    "        lowest = arr[j]\n",
    "        # print(\"arr[j]:\",arr[j],\", lowestindex:\",j)\n",
    "        indexOflowest = j    \n",
    "    if arr[r] != lowest:\n",
    "      count += 2     \n",
    "    temp = arr[r]\n",
    "    arr[r] = lowest\n",
    "    arr[indexOflowest] = temp\n",
    "    if arr[r] != lowest:\n",
    "      count += 2 \n",
    "    \n",
    "  print(count)\n",
    "  \n",
    "selectionSort([4,2,3,1,6,5])"
   ]
  },
  {
   "cell_type": "markdown",
   "metadata": {
    "id": "iIH5n0sJHEl5"
   },
   "source": [
    "### Task 7\n",
    "\n",
    "Write a python program that takes two lists from the user, merges the two lists, sorts the list, and find the median of the elements of the two lists.\n",
    "\n",
    "=====================================================\n",
    "\n",
    "\n",
    "**Sample Input 1**<br/>\n",
    "list_one = [1,2,1,4] <br/>\n",
    "list_two = [5,4,1]\n",
    "\n",
    "\n",
    "**Sample Output 1**<br/>\n",
    "Sorted list = [1, 1, 1, 2, 4, 4, 5] <br/>\n",
    "Median = 2\n",
    "\n",
    "=====================================================\n",
    "\n",
    "\n",
    "**Sample Input 2**<br/>\n",
    "list_one= [1,7,9,10] <br/>\n",
    "list_two= [2,7,6,5]\n",
    "\n",
    "\n",
    "**Sample Output 2**<br/>\n",
    "Sorted list=[1, 2, 5, 6, 7, 7, 9, 10] <br/>\n",
    "Median=6.5\n",
    "\n"
   ]
  },
  {
   "cell_type": "code",
   "execution_count": 32,
   "metadata": {
    "colab": {
     "base_uri": "https://localhost:8080/"
    },
    "id": "KsFxC7XbHEl6",
    "outputId": "019284e3-41c9-4546-eb40-28b702d8a6da"
   },
   "outputs": [
    {
     "name": "stdout",
     "output_type": "stream",
     "text": [
      "Enter a list of numbers seperated by coma: 1,7,9,10\n",
      "Enter a list of numbers seperated by coma: 2,7,6,5\n",
      "[1, 2, 5, 6, 7, 7, 9, 10]\n",
      "6.5\n"
     ]
    }
   ],
   "source": [
    "#todo\n",
    "def findMedian():\n",
    "  list_one = input(\"Enter a list of numbers seperated by coma: \").split(\",\")\n",
    "  list_two = input(\"Enter a list of numbers seperated by coma: \").split(\",\")\n",
    "  list_three = list_one + list_two\n",
    "  newList = []\n",
    "  for r in list_three:\n",
    "    newList.append(int(r))\n",
    "  # list_three.sort()\n",
    "  def selectionSort(arr):\n",
    "    for r in range(len(arr)):\n",
    "      lowest = arr[r]\n",
    "      indexOflowest = r\n",
    "      for j in range(r+1,len(arr)):\n",
    "        if lowest > arr[j]:\n",
    "          lowest = arr[j]\n",
    "          # print(\"arr[j]:\",arr[j],\", lowestindex:\",j)\n",
    "          indexOflowest = j      \n",
    "      temp = arr[r]\n",
    "      arr[r] = lowest\n",
    "      arr[indexOflowest] = temp\n",
    "      # print(arr)\n",
    "    return arr\n",
    "      \n",
    "      \n",
    "  list_three = selectionSort(newList)\n",
    "  length = len(list_three)\n",
    "  if length%2==0:\n",
    "    median = (  int(list_three[length//2]) + int(list_three[length//2-1]) ) / 2\n",
    "    print(list_three)\n",
    "    # print(list_three)\n",
    "\n",
    "     \n",
    "  else:\n",
    "    print(list_three)\n",
    "    median = list_three[length//2]\n",
    "  print(\"median: \",median)\n",
    "findMedian()"
   ]
  },
  {
   "cell_type": "markdown",
   "metadata": {
    "id": "-XKiwBR1HEl8"
   },
   "source": [
    "### Task 8\n",
    "\n",
    "\n",
    "Write a python program that takes a list from user containing both positive and negative numbers. The program then finds two pairs of values whose summation is closest to zero.\n",
    "\n",
    "=====================================================\n",
    "\n",
    "**Sample Input 1**<br/>\n",
    "list_one = [-10,15,2,4,-4,7,-8] \n",
    "\n",
    "\n",
    "**Sample Output 1**<br/>\n",
    "Two pairs which have the smallest sum = 4 and -4\n",
    "\n",
    "=====================================================\n",
    "\n",
    "\n",
    "**Sample Input 2**<br/>\n",
    "list_one = [1,-8,4,-7,-20,26,70,-85]\n",
    "\n",
    "\n",
    "**Sample Output 2**<br/>\n",
    "Two pairs which have the smallest sum = 4 and -7"
   ]
  },
  {
   "cell_type": "code",
   "execution_count": 38,
   "metadata": {
    "colab": {
     "base_uri": "https://localhost:8080/"
    },
    "id": "5ORSGa5GHEl9",
    "outputId": "e4dca140-8407-4aab-9b0f-1b9b75376a24"
   },
   "outputs": [
    {
     "name": "stdout",
     "output_type": "stream",
     "text": [
      "-10,15,2,4,-4,7,-8\n",
      "Two pairs which have the smallest sum =  4  and  -4\n"
     ]
    }
   ],
   "source": [
    "#todo\n",
    "def close_to_zero():\n",
    "  arr = input(\"\").split(\",\")\n",
    "  newArr = []\n",
    "  for r in arr:\n",
    "    newArr.append(int(r))\n",
    "  smallest = 9999999999999999999999999999999999999999999999999999999999999\n",
    "  for k in range(len(newArr)):\n",
    "    for j in range(k+1,len(newArr)):\n",
    "      sum = abs(newArr[k]+newArr[j])\n",
    "      if sum < smallest:\n",
    "        smallest = sum\n",
    "        num1 = newArr[k]\n",
    "        num2 = newArr[j]\n",
    "  print(\"Two pairs which have the smallest sum = \",num1,\" and \",num2)\n",
    "close_to_zero()"
   ]
  }
 ],
 "metadata": {
  "colab": {
   "collapsed_sections": [],
   "name": "Copy of CSE110 Assignment06 (Sorting).ipynb",
   "provenance": []
  },
  "kernelspec": {
   "display_name": "Python 3",
   "language": "python",
   "name": "python3"
  },
  "language_info": {
   "codemirror_mode": {
    "name": "ipython",
    "version": 3
   },
   "file_extension": ".py",
   "mimetype": "text/x-python",
   "name": "python",
   "nbconvert_exporter": "python",
   "pygments_lexer": "ipython3",
   "version": "3.7.3"
  }
 },
 "nbformat": 4,
 "nbformat_minor": 1
}
