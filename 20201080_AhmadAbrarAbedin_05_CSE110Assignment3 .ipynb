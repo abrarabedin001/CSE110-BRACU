{
  "nbformat": 4,
  "nbformat_minor": 0,
  "metadata": {
    "kernelspec": {
      "display_name": "Python 3",
      "language": "python",
      "name": "python3"
    },
    "language_info": {
      "codemirror_mode": {
        "name": "ipython",
        "version": 3
      },
      "file_extension": ".py",
      "mimetype": "text/x-python",
      "name": "python",
      "nbconvert_exporter": "python",
      "pygments_lexer": "ipython3",
      "version": "3.7.6"
    },
    "colab": {
      "name": "20201080_AhmadAbrarAbedin_05_CSE110Assignment3.ipynb",
      "provenance": [],
      "collapsed_sections": []
    }
  },
  "cells": [
    {
      "cell_type": "markdown",
      "metadata": {
        "id": "xDNsncrtU1yM"
      },
      "source": [
        "# CSE110 Assignment 3\n",
        "\n"
      ]
    },
    {
      "cell_type": "markdown",
      "metadata": {
        "id": "gh4GUDaIU1yO"
      },
      "source": [
        "\n",
        "## Write the Python code of the following problems:\n",
        "\n",
        "**<font color='red'>[MUST MAINTAIN VARIABLE NAMING CONVENTIONS FOR ALL THE TASKS]</font>**\n",
        "\n",
        "## Part 1: String\n",
        "\n",
        "\n",
        "\n"
      ]
    },
    {
      "cell_type": "markdown",
      "metadata": {
        "id": "KD4EKJf6U1yQ"
      },
      "source": [
        "### Task 1 \n",
        "\n",
        "Write a Python program that will ask the user to input a string (containing exactly one word). Then your program should print a subsequent substring of the given string.\n",
        "\n",
        "=====================================================================\n",
        "\n",
        "**Example1:**\\\n",
        "Input: BANGLA\\\n",
        "Output:\\\n",
        "B\\\n",
        "BA\\\n",
        "BAN\\\n",
        "BANG\\\n",
        "BANGL\\\n",
        "BANGLA\n",
        "\n",
        "=====================================================================\n",
        "\n",
        "**Example2:**\\\n",
        "Input: DREAM\\\n",
        "Output:\\\n",
        "D\\\n",
        "DR\\\n",
        "DRE\\\n",
        "DREA\\\n",
        "DREAM\n",
        "\n",
        "=====================================================================\n",
        "\n",
        "**Hints(1):** Need to use \"for loop\" for this task.\n",
        "\n",
        "**Hints(2):** Need to use print() function for printing newlines.\n",
        "\n",
        "For example:\\\n",
        "print(1)\\\n",
        "print(2)\n",
        "\n",
        "Output:\\\n",
        "1\\\n",
        "2\n",
        "\n",
        "=====================================================================\n",
        "\n",
        "We need use print(end = \"\") to skip printing the additional newline.\n",
        "\n",
        "For example:\\\n",
        "print(1, end =\" \")\\\n",
        "print(2)\n",
        "\n",
        "Output:(prints the next output right to the previous one)\\\n",
        "12\n",
        "\n",
        "=====================================================================\n",
        "\n",
        "\n",
        "\n",
        "\n"
      ]
    },
    {
      "cell_type": "code",
      "metadata": {
        "id": "vJhpmj2XU1yR",
        "outputId": "8dc7c0b6-92b6-4dc9-8a1f-1c74bed00825",
        "colab": {
          "base_uri": "https://localhost:8080/"
        }
      },
      "source": [
        "#Todo\n",
        "\n",
        "name = input(\"Please enter a word: \")\n",
        "# print(len(name))\n",
        "for r in range(len(name)+1):\n",
        "  print(name[:r])\n"
      ],
      "execution_count": null,
      "outputs": [
        {
          "output_type": "stream",
          "text": [
            "Please enter a word: BANGLA\n",
            "\n",
            "B\n",
            "BA\n",
            "BAN\n",
            "BANG\n",
            "BANGL\n",
            "BANGLA\n"
          ],
          "name": "stdout"
        }
      ]
    },
    {
      "cell_type": "markdown",
      "metadata": {
        "id": "pbdeIVcyU1yi"
      },
      "source": [
        "### Task2\n",
        "\n",
        "Write a Python program that will ask the user to enter a  word as an input. \n",
        "\n",
        "* If the length of the input string is less than 4, then your program should print the same string as an output. \n",
        "* If the input string’s length is greater than 3, then your program should add \"er\" at the end of the input string. \n",
        "* If the input string already ends with \"er\", then add \"est\" instead. \n",
        "* If the input string already ends with \"est\", then your program should print the same input string as an output.\n",
        "\n",
        "=====================================================================\n",
        "\n",
        "**Example 1:**\\\n",
        "Input: strong\\\n",
        "Output: stronger\n",
        "\n",
        "=====================================================================\n",
        "\n",
        "**Example 2:**\\\n",
        "Input: stronger\\\n",
        "Output: strongest\n",
        "\n",
        "=====================================================================\n",
        "\n",
        "**Example 3:**\\\n",
        "Input: strongest\\\n",
        "Output: strongest\n",
        "\n",
        "=====================================================================\n",
        "\n",
        "**Example 4:**\\\n",
        "Input: abc\\\n",
        "Output: abc\n"
      ]
    },
    {
      "cell_type": "code",
      "metadata": {
        "id": "A5df9pmJU1yj",
        "outputId": "4d3783d9-dbbc-4649-f1ae-bb551a39065e",
        "colab": {
          "base_uri": "https://localhost:8080/"
        }
      },
      "source": [
        "#todo\n",
        "word = input(\"Please enter a word: \")\n",
        "if len(word) <4:\n",
        "  print(word)\n",
        "elif len(word) > 3 and \"er\" != word[-2:] and \"est\" != word[-3:] :\n",
        "  print(word+\"er\")\n",
        "elif \"er\" == word[-2:]:\n",
        "    print(word[:-2]+\"est\")\n",
        "elif \"est\" == word[-3:]:\n",
        "    print(word)\n",
        "\n",
        "\n",
        "\n"
      ],
      "execution_count": null,
      "outputs": [
        {
          "output_type": "stream",
          "text": [
            "Please enter a word: strongest\n",
            "strongest\n"
          ],
          "name": "stdout"
        }
      ]
    },
    {
      "cell_type": "markdown",
      "metadata": {
        "id": "PsBbgc4YU1yp"
      },
      "source": [
        "### Task3\n",
        "\n",
        "Write a Python program that will ask the user to input a string (containing exactly one word). Then print code for each character in the String using the ord() function. Use any means necessary.\n",
        "\n",
        "To check if your program is working correctly or not, you can find a list of all correct values from the following website. Look at “Dec” and “Char” columns only, ignore other columns.\\\n",
        "link: http://www.asciitable.com/\n",
        "\n",
        "=====================================================================\n",
        "\n",
        "**Example 1:**\\\n",
        "Input: Programming\\\n",
        "Output:\\\n",
        "P : 80\\\n",
        "r : 114\\\n",
        "o : 111\\\n",
        "g : 103\\\n",
        "r : 114\\\n",
        "a : 97\\\n",
        "m : 109\\\n",
        "m : 109\\\n",
        "i : 105\\\n",
        "n : 110\\\n",
        "g : 103\n",
        "\n",
        "=====================================================================\n",
        "\n",
        "**Example 2:**\\\n",
        "Input: hunger\\\n",
        "Output:\\\n",
        "h : 104\\\n",
        "u : 117\\\n",
        "n : 110\\\n",
        "g : 103\\\n",
        "e : 101\\\n",
        "r : 114 "
      ]
    },
    {
      "cell_type": "code",
      "metadata": {
        "id": "r8by7ONZU1ys",
        "outputId": "5694b11e-c11a-47fc-95ce-096beb6eb664",
        "colab": {
          "base_uri": "https://localhost:8080/"
        }
      },
      "source": [
        "#todo\n",
        "word = input(\"Please enter a word: \")\n",
        "for r in word:\n",
        "  print(r+\" : \"+str(ord(r)) )"
      ],
      "execution_count": null,
      "outputs": [
        {
          "output_type": "stream",
          "text": [
            "Please enter a word: programming\n",
            "p : 112\n",
            "r : 114\n",
            "o : 111\n",
            "g : 103\n",
            "r : 114\n",
            "a : 97\n",
            "m : 109\n",
            "m : 109\n",
            "i : 105\n",
            "n : 110\n",
            "g : 103\n"
          ],
          "name": "stdout"
        }
      ]
    },
    {
      "cell_type": "markdown",
      "metadata": {
        "id": "O8lIVppgU1yw"
      },
      "source": [
        "### Task4\n",
        "\n",
        "Given a word as input in small letters, print the next alphabet in sequence for each alphabet found in the input.\n",
        "\n",
        "=====================================================================\n",
        "\n",
        "\n",
        "*Hint: You need to use functions ord() and chr(). The ASCII value of ‘a’ is 97 and ‘z’ is 122.*\n",
        "\n",
        "=====================================================================\n",
        "\n",
        "**Example1:**\\\n",
        "Input: abcd\\\n",
        "Output: bcde\n",
        "\n",
        "**Example2:**\\\n",
        "Input: the cow\\\n",
        "Output: uif!dpx\n",
        "\n",
        "**Example3: <font color='red'>[Must fulfil this criteria]</font>**\\\n",
        "Input: xyzabc\\\n",
        "Output: yzabcd\n",
        "\n",
        "\n"
      ]
    },
    {
      "cell_type": "code",
      "metadata": {
        "id": "Hyvy8WNNU1yx",
        "outputId": "ce7a8791-17c7-4303-e857-765cbaca0492",
        "colab": {
          "base_uri": "https://localhost:8080/"
        }
      },
      "source": [
        "#todo\n",
        "word = input(\"Please enter a word: \")\n",
        "for r in word:\n",
        "  print(chr(ord(r)+1),end=\"\") "
      ],
      "execution_count": null,
      "outputs": [
        {
          "output_type": "stream",
          "text": [
            "Please enter a word: abcd\n",
            "bcde"
          ],
          "name": "stdout"
        }
      ]
    },
    {
      "cell_type": "markdown",
      "metadata": {
        "id": "leVtdAsdymXM"
      },
      "source": [
        "### Task 5\n",
        "\n",
        "Write a Python program that will ask the user to enter two strings (s1, s2) as an input. Then create a mixed string with alternative characters from each string. Any leftover chars will be appended at the end of the result string.\n",
        "\n",
        "=====================================================================\n",
        "\n",
        "*Hint: For adding the leftover characters use string slicing.*\n",
        "\n",
        "=====================================================================\n",
        "\n",
        "**Example 1:**\\\n",
        "Input:\\\n",
        "\"ABCD\"\\\n",
        "\"efgh\"\n",
        "\n",
        "Output:\\\n",
        "AeBfCgDh\n",
        "\n",
        "=====================================================================\n",
        "\n",
        "**Example 2:**\\\n",
        "Input:\\\n",
        "\"ABCDENDFGH\"\\\n",
        "\"ijkl\"\n",
        "\n",
        "Output:\\\n",
        "AiBjCkDlENDFGH\n",
        "\n",
        "=====================================================================\n",
        "\n",
        "**Example 3:**\\\n",
        "Input:\\\n",
        "\"ijkl\"\\\n",
        "\"ABCDENDFGH\"\n",
        "\n",
        "Output:\\\n",
        "iAjBkClDENDFGH\n",
        "\n",
        "=====================================================================\n",
        "\n",
        "\n",
        "\n",
        "\n"
      ]
    },
    {
      "cell_type": "code",
      "metadata": {
        "id": "kC1cq47myny6",
        "outputId": "4cd10c0a-9097-4e70-f801-c24fc10b0ebb",
        "colab": {
          "base_uri": "https://localhost:8080/"
        }
      },
      "source": [
        "#Todo\n",
        "word1 = input(\"Please enter a word: \")\n",
        "word2 = input(\"Please enter a word: \")\n",
        "\n",
        "emptyStr = \"\"\n",
        "if len(word1) > len(word2):\n",
        "  smaller = word2\n",
        "  larger = word1\n",
        "else:\n",
        "  smaller = word1\n",
        "  larger = word2\n",
        "\n",
        "for r in range(len(smaller)):\n",
        "  if r < len(smaller):\n",
        "    emptyStr = emptyStr + word1[r]\n",
        "    emptyStr = emptyStr + word2[r]\n",
        "  else:\n",
        "    emptyStr = emptyStr + larger[r:]\n",
        "\n",
        "emptyStr = emptyStr + larger[r+1:]\n",
        "print(emptyStr)"
      ],
      "execution_count": null,
      "outputs": [
        {
          "output_type": "stream",
          "text": [
            "Please enter a word: sdjfjhasjfhasdf\n",
            "Please enter a word: jkjhkjh\n",
            "sjdkjjfhjkhjahsjfhasdf\n"
          ],
          "name": "stdout"
        }
      ]
    },
    {
      "cell_type": "markdown",
      "metadata": {
        "id": "AWQJrJW3U1y3"
      },
      "source": [
        "### Task6\n",
        "Given a string, create a new string with all the consecutive duplicates **removed**. \n",
        "\n",
        "=====================================================================\n",
        "\n",
        "**Hint:** You need to make a new string to store your answer. Check whether the current character and the next character are the same, then add that character to the answer.\n",
        "\n",
        "=====================================================================\n",
        "\n",
        "**Example:**\\\n",
        "**Input**:\\\n",
        "AAABBBBCDDBBECE\\\n",
        "**Output:**\\\n",
        "ABCDBECE\n",
        "\n",
        "\n",
        "\n"
      ]
    },
    {
      "cell_type": "code",
      "metadata": {
        "id": "oNv_JNgUU1y4",
        "outputId": "1a34b815-8194-4a21-deb9-5119667fbdec",
        "colab": {
          "base_uri": "https://localhost:8080/"
        }
      },
      "source": [
        "#Todo\n",
        "word = input(\"Please enter a word: \")\n",
        "empt = \"\"\n",
        "buffer  = \":\"\n",
        "for r in word:\n",
        "  if buffer != r:\n",
        "    buffer = r\n",
        "    empt = empt + r\n",
        "print(empt)\n"
      ],
      "execution_count": null,
      "outputs": [
        {
          "output_type": "stream",
          "text": [
            "Please enter a word: AAABBBBCDDBBECE\n",
            "ABCDBECE\n"
          ],
          "name": "stdout"
        }
      ]
    },
    {
      "cell_type": "markdown",
      "metadata": {
        "id": "ptcRoNgKzG9-"
      },
      "source": [
        "### Task7\n",
        "\n",
        "Write a Python program that takes a string as an input from the user. Then checks whether the input is a palindrome or Not.\n",
        "\n",
        "==========================================\n",
        "\n",
        "*Hints(1): Check the characters from the starting point and the ending point*\n",
        "\n",
        "==========================================\n",
        "\n",
        "**Sample Input**<br/>\n",
        "1235321<br/>\n",
        "\n",
        "**Sample Output**<br/>\n",
        "Palindrome<br/>\n",
        "\n",
        "\n",
        "==========================================\n",
        "\n",
        "**Sample Input**<br/>\n",
        "1233521<br/>\n",
        "\n",
        "**Sample Output**<br/>\n",
        "Not a Palindrome<br/>\n",
        "\n",
        "==========================================\n",
        "\n",
        "**Sample Input**<br/>\n",
        "abcba<br/>\n",
        "\n",
        "**Sample Output**<br/>\n",
        "Palindrome<br/>\n"
      ]
    },
    {
      "cell_type": "code",
      "metadata": {
        "id": "v0DzroXdzNeM",
        "outputId": "af267d60-cb3d-4551-dbd8-2bfdef20edea",
        "colab": {
          "base_uri": "https://localhost:8080/"
        }
      },
      "source": [
        "#Todo\n",
        "# word = str(input(\"Please enter a word: \"))\n",
        "word = input(\"Please enter a word: \")\n",
        "true = True\n",
        "length = -1\n",
        "\n",
        "for r in range(len(word)):\n",
        "  if word[r]!= word[length]:\n",
        "    true = False\n",
        "  length = length -1\n",
        "if true:\n",
        "  print(\"Palindrome\")\n",
        "else:\n",
        "  print(\"Not a Palindrome\")"
      ],
      "execution_count": null,
      "outputs": [
        {
          "output_type": "stream",
          "text": [
            "Please enter a word: 1221\n",
            "Palindrome\n"
          ],
          "name": "stdout"
        }
      ]
    },
    {
      "cell_type": "markdown",
      "metadata": {
        "id": "vHRyG1W3zOBU"
      },
      "source": [
        "### Task8\n",
        "\n",
        "Write a Python program that takes a string as an input from the user. Then checks whether the input is a number, word or mixed with digit and letters. \n",
        "\n",
        "* If all the characters are numeric values, print NUMBER. \n",
        "* If they are all letters, print WORD. \n",
        "* If it is mixed, print MIXED.\n",
        "\n",
        "\n",
        "==========================================\n",
        "\n",
        "*Hints: need to take all the alphabets in either uppercase or lower case. Flags/counters can be used to check the different categorories*\n",
        "\n",
        "==========================================\n",
        "\n",
        "**Sample Input**\n",
        "213213\n",
        "\n",
        "**Sample Output**\n",
        "NUMBER\n",
        "\n",
        "\n",
        "==========================================\n",
        "\n",
        "**Sample Input**\n",
        "jhg231j213\n",
        "\n",
        "**Sample Output**\n",
        "MIXED\n",
        "\n",
        "==========================================\n",
        "\n",
        "**Sample Input**\n",
        "Hello\n",
        "\n",
        "**Sample Output**\n",
        "WORD\n"
      ]
    },
    {
      "cell_type": "code",
      "metadata": {
        "id": "jRMkFIk20hwL",
        "outputId": "876654b1-d55d-4a9e-d87e-2d7eb7ab99f3",
        "colab": {
          "base_uri": "https://localhost:8080/"
        }
      },
      "source": [
        "#todo\n",
        "word = str(input(\"Please enter a word: \"))\n",
        "numberList = \"0123456789\"\n",
        "alphList = \"abcdefghijklmnopqrstuvwxyzABSDEFGHIJKLMNOPQRSTUVWXYZ\"\n",
        "num = False\n",
        "alph = False\n",
        "for r in word:\n",
        "  for z in numberList:\n",
        "    if r == z:\n",
        "      num = True\n",
        "      break\n",
        "  for k in  alphList:\n",
        "    if k == r:\n",
        "      alph = True\n",
        "      break  \n",
        "if num == True and alph == False:\n",
        "  print(\"NUMBER\")\n",
        "if num == True and alph == True:\n",
        "  print(\"MIXED\")\n",
        "if num == False and alph == True:\n",
        "  print(\"WORD\")"
      ],
      "execution_count": null,
      "outputs": [
        {
          "output_type": "stream",
          "text": [
            "Please enter a word: 123sjfjksdhf\n",
            "MIXED\n"
          ],
          "name": "stdout"
        }
      ]
    },
    {
      "cell_type": "markdown",
      "metadata": {
        "id": "4zI6tmFN0i4y"
      },
      "source": [
        "### Task09\n",
        "\n",
        "Write a python program that reads 2 numbers from the user, where the first input is a string with length greater than 1. The second number is the index of the string from where you have to start reversing. Then print the new string back to the user.\n",
        "\n",
        "========================================\n",
        "\n",
        "**Sample Input**<br/>\n",
        "12345, 4<br/>\n",
        "**Sample Output**<br/>\n",
        "54321<br/>\n",
        "\n",
        "\n",
        "========================================\n",
        "\n",
        "**Sample Input**<br/>\n",
        "12345, 2<br/>\n",
        "**Sample Output**<br/>\n",
        "32145<br/>\n",
        "\n",
        "========================================\n",
        "\n",
        "**Sample Input**<br/>\n",
        "aBcd1234defg, 5<br/>\n",
        "**Sample Output**<br/>\n",
        "21dcBa34defg<br/>"
      ]
    },
    {
      "cell_type": "code",
      "metadata": {
        "id": "lModRb2L0oqS",
        "outputId": "3414a5dc-d1e3-4093-b4f0-1237be5de1bd",
        "colab": {
          "base_uri": "https://localhost:8080/"
        }
      },
      "source": [
        "#todo\n",
        "word = str(input(\"Please enter a word: \"))\n",
        "num = int(input(\"Please enter an index: \"))\n",
        "\n",
        "first = word[:num+1]\n",
        "second = word[num+1:]\n",
        "rev = \"\"\n",
        "for r in range(1,len(first)+1):\n",
        "  \n",
        "  rev = rev + first[-r]\n",
        "\n",
        "print(rev + second)"
      ],
      "execution_count": null,
      "outputs": [
        {
          "output_type": "stream",
          "text": [
            "Please enter a word: aBcd1234defg\n",
            "Please enter an index: 5\n",
            "21dcBa34defg\n"
          ],
          "name": "stdout"
        }
      ]
    },
    {
      "cell_type": "markdown",
      "metadata": {
        "id": "mwnPD6m-U1y9"
      },
      "source": [
        "## Part 2: List\n"
      ]
    },
    {
      "cell_type": "markdown",
      "metadata": {
        "id": "lPoDvm8YU1y9"
      },
      "source": [
        "### Task 10\n",
        "Write a Python program that reads 10 numbers from the user. After reading each number, print all the numbers that have been entered so far. \n",
        "\n",
        "**Example:**\\\n",
        "After the user enters 3, prints “So far in the list: [3]”\\\n",
        "After the user enters 5, prints “So far in the list: [3, 5]”\\\n",
        "After the user enters 34, prints “So far in the list: [3, 5, 34]”\\\n",
        ".... continues"
      ]
    },
    {
      "cell_type": "code",
      "metadata": {
        "id": "z26BN9B3U1y_",
        "outputId": "bc8a76a9-1c60-4588-b8d1-3f24110979ed",
        "colab": {
          "base_uri": "https://localhost:8080/"
        }
      },
      "source": [
        "#Todo\n",
        "list = []\n",
        "for r in range(10):\n",
        "  num = int(input(\"Please enter a number: \"))\n",
        "  list.append(num)\n",
        "  print(\"So far in the list:\"+str(list))"
      ],
      "execution_count": null,
      "outputs": [
        {
          "output_type": "stream",
          "text": [
            "Please enter a number: 1\n",
            "So far in the list:[1]\n",
            "Please enter a number: 2\n",
            "Please enter a number: 3\n",
            "So far in the list:[1, 2]\n",
            "So far in the list:[1, 2, 3]\n",
            "Please enter a number: 4\n",
            "So far in the list:[1, 2, 3, 4]\n",
            "Please enter a number: 5\n",
            "So far in the list:[1, 2, 3, 4, 5]\n",
            "Please enter a number: 6\n",
            "So far in the list:[1, 2, 3, 4, 5, 6]\n",
            "Please enter a number: 7\n",
            "So far in the list:[1, 2, 3, 4, 5, 6, 7]\n",
            "Please enter a number: 8\n",
            "So far in the list:[1, 2, 3, 4, 5, 6, 7, 8]\n",
            "Please enter a number: 9\n",
            "So far in the list:[1, 2, 3, 4, 5, 6, 7, 8, 9]\n",
            "Please enter a number: 0\n",
            "So far in the list:[1, 2, 3, 4, 5, 6, 7, 8, 9, 0]\n"
          ],
          "name": "stdout"
        }
      ]
    },
    {
      "cell_type": "markdown",
      "metadata": {
        "id": "ZrjtT-I_U1zD"
      },
      "source": [
        "### Task 11\n",
        "Assume, you have been given a list.\n",
        "\n",
        "a_list =  [10, 20, 24, 25, 26, 35, 70]\n",
        "\n",
        "Write a Python program that creates a new list excluding the first and last two elements of the given list and prints the new list. \n",
        "\n",
        "**Output:** [24, 25, 26]\n",
        "\n",
        "==========================================\n",
        "\n",
        "**Hint:**You need to use list slicing.\n"
      ]
    },
    {
      "cell_type": "code",
      "metadata": {
        "id": "3r7Ripj7U1zE",
        "outputId": "24c6c4b6-8655-4d1d-8eea-631c57a427aa",
        "colab": {
          "base_uri": "https://localhost:8080/"
        }
      },
      "source": [
        "#Todo\n",
        "\n",
        "a_list = [10, 20, 24, 25, 26, 35, 70]\n",
        "newList = a_list[2:len(a_list)-2]\n",
        "print(newList)"
      ],
      "execution_count": null,
      "outputs": [
        {
          "output_type": "stream",
          "text": [
            "[24, 25, 26]\n"
          ],
          "name": "stdout"
        }
      ]
    },
    {
      "cell_type": "markdown",
      "metadata": {
        "id": "AWgZaBZCzmaM"
      },
      "source": [
        "### Task 12\n",
        "\n",
        "Write a python program that reads 5 numbers from the user, and then prints them in the reverse order.\n",
        "\n",
        "==========================================\n",
        "\n",
        "*Hint:You need to create a list to store the input numbers. Then use loop to print them in reverse order*\n",
        "\n",
        "\n",
        "==========================================\n",
        "\n",
        "**Sample Input**\n",
        "5, -5, 100, 1, 0\n",
        "\n",
        "**Sample Output**\\\n",
        "0\\\n",
        "1\\\n",
        "100\\\n",
        "-5\\\n",
        "5"
      ]
    },
    {
      "cell_type": "code",
      "metadata": {
        "id": "ICW-03YOznTp",
        "outputId": "76dd9045-190b-46f9-baa9-966369084b74",
        "colab": {
          "base_uri": "https://localhost:8080/"
        }
      },
      "source": [
        "#todo\n",
        "num = input(\"Please enter a list of 5 numbers seperated by coma: \")\n",
        "list = num.split(\",\")\n",
        "for r in range(1,len(list)+1):\n",
        "  print(list[-r])"
      ],
      "execution_count": null,
      "outputs": [
        {
          "output_type": "stream",
          "text": [
            "Please enter a list of 5 numbers seperated by coma: 5,-5,100,1,0\n",
            "0\n",
            "1\n",
            "100\n",
            "-5\n",
            "5\n"
          ],
          "name": "stdout"
        }
      ]
    },
    {
      "cell_type": "markdown",
      "metadata": {
        "id": "7a_1pYjfU1zI"
      },
      "source": [
        "### Task 13\n",
        "Assume, you have been given two lists. \n",
        "\n",
        "list_one = [1, 2, 3, 4, 5, 6, 7, 8, 9]\\\n",
        "list_two = [10, 11, 12, -13, -14, -15, -16]\n",
        "\n",
        "Write a Python program that creates a new list with all the **even elements** of both of the given lists and prints the new list.\n",
        "\n",
        "\n",
        "**Output:** [2, 4, 6, 8, 10, 12, -14, -16]\n",
        "\n",
        "==========================================\n",
        "\n",
        "**Hint:** You need to create a third list to store the even elements of the given lists.\n",
        "\n"
      ]
    },
    {
      "cell_type": "code",
      "metadata": {
        "id": "vToa7yazU1zI",
        "outputId": "992619c3-8c7d-4004-df2e-801aa9a17284",
        "colab": {
          "base_uri": "https://localhost:8080/"
        }
      },
      "source": [
        "#Todo\n",
        "list_one = [1, 2, 3, 4, 5, 6, 7, 8, 9]\n",
        "list_two = [10, 11, 12, -13, -14, -15, -16]\n",
        "newList = []\n",
        "for r in list_one:\n",
        "  if r % 2 == 0:\n",
        "    newList.append(r)\n",
        "for s in list_two:\n",
        "  if s % 2 == 0:\n",
        "    newList.append(s)\n",
        "print(newList)"
      ],
      "execution_count": null,
      "outputs": [
        {
          "output_type": "stream",
          "text": [
            "[2, 4, 6, 8, 10, 12, -14, -16]\n"
          ],
          "name": "stdout"
        }
      ]
    },
    {
      "cell_type": "markdown",
      "metadata": {
        "id": "QaD4hLn92EKT"
      },
      "source": [
        "### Task 14\n",
        "\n",
        "Write a Python program to print the elements in a given list **without the duplicates**.\n",
        "\n",
        "===================================================================\n",
        "\n",
        "*Hint:You need to create a third list to store the results. Use membership operators (in, not in) to make sure no duplicates are added.*\n",
        "\n",
        "===================================================================\n",
        "\n",
        "**Sample Input**<br/>\n",
        "0, 0, 1, 2, 3, 4, 4, 5, 6, 6, 6, 7, 8, 9, 4, 4<br/>\n",
        "\n",
        "\n",
        "**Sample Output**<br/>\n",
        "[0, 1, 2, 3, 4, 5, 6, 7, 8, 9]<br/>\n",
        "\n",
        "===================================================================\n",
        "\n",
        "**Sample Input**<br/>\n",
        "7, 7, 7, 1, 0, 3, 3, 55, 9<br/>\n",
        "\n",
        "\n",
        "**Sample Output**<br/>\n",
        "[7, 1, 0, 3, 55, 9]<br/>\n",
        "\n"
      ]
    },
    {
      "cell_type": "code",
      "metadata": {
        "id": "EUbQbz5hU1zP",
        "outputId": "3ab45b76-e5c0-46bc-a82a-7797cf81fa46",
        "colab": {
          "base_uri": "https://localhost:8080/"
        }
      },
      "source": [
        "#Todo\n",
        "arr = input(\"Enter a list of numbers: \")\n",
        "arr = arr.split(\",\")\n",
        "list  =  []\n",
        "for r in arr:\n",
        "  if r == \"[\" or r ==\"]\" or r ==\",\" or r==\" \":\n",
        "    continue\n",
        "  elif int(r) not in list:\n",
        "    list.append(int(r))\n",
        "print(list) "
      ],
      "execution_count": null,
      "outputs": [
        {
          "output_type": "stream",
          "text": [
            "Enter an array: 7, 7, 7, 1, 0, 3, 3, 55, 9\n",
            "[7, 1, 0, 3, 55, 9]\n"
          ],
          "name": "stdout"
        }
      ]
    },
    {
      "cell_type": "markdown",
      "metadata": {
        "id": "wfcSytFVU1zU"
      },
      "source": [
        "### Task 15\n",
        "\n",
        "Write a Python program that reads 5 numbers into a list and prints the largest number and its location on the list. <font color='red'>[You are not allowed to use the max(), sort(), sorted() function here]</font>\n",
        "\n",
        "==========================================\n",
        "\n",
        "**Hint:**\\\n",
        " Assume, the first input to be the largest value initially and the location of first input which is 0 to be the initial value of the largest value’s location.\n",
        "You need to be careful while printing the output. Depending on your code might need data conversion.\n",
        "\n",
        "==========================================\n",
        "\n",
        "\n",
        "**Example:**\\\n",
        "**Input:**\\\n",
        " 7, 13, 2, 10, 6\n",
        "\n",
        "**Output:**\\\n",
        "list: [7, 13, 2, 10, 6]\\\n",
        "Largest number 13 was found at location 1.\n",
        "\n",
        "\n"
      ]
    },
    {
      "cell_type": "code",
      "metadata": {
        "id": "kXbEh1t3U1zV",
        "outputId": "5123a138-6570-4131-db8b-ed5d1f8e6690",
        "colab": {
          "base_uri": "https://localhost:8080/"
        }
      },
      "source": [
        "#Todo\n",
        "arr = input(\"Enter a list of numbers: \")\n",
        "arr = arr.split(\",\")\n",
        "newArr =[]\n",
        "for r in arr:\n",
        "  newArr.append(int(r))\n",
        "\n",
        "largest = newArr[0]\n",
        "location = 0\n",
        "\n",
        "for z in range(len(newArr)):\n",
        "  if largest < newArr[z]:\n",
        "    largest = newArr[z]\n",
        "    location = z\n",
        "print(\"Largest number \"+str(largest)+\" was found at location \"+str(location))"
      ],
      "execution_count": null,
      "outputs": [
        {
          "output_type": "stream",
          "text": [
            "Enter a list of numbers: 7, 13, 2, 10, 6\n",
            "Largest number 13 was found at location 1\n"
          ],
          "name": "stdout"
        }
      ]
    },
    {
      "cell_type": "markdown",
      "metadata": {
        "id": "WZXnxHTdGrMC"
      },
      "source": [
        "## Optional Tasks (16-20) [Ungraded]"
      ]
    },
    {
      "cell_type": "markdown",
      "metadata": {
        "id": "lvSiLaobU1zY"
      },
      "source": [
        "### Task 16\n",
        "\n",
        "Write a Python program that reads 5 numbers into a list and prints the smallest and largest number and their location in the list. <font color='red'>[You are not allowed to use the max(), min(), sort(), sorted() functions here]</font>\n",
        "\n",
        "==========================================\n",
        "\n",
        "**Hint:**\\\n",
        " Assume, the first input to be the largest value and the location of the first input which is 0 to be the initial value of the largest value’s location. Similarly, assume the first input to be the smallest value and the location of the first input which is 0 to be the initial value of the smallest value’s location.\n",
        "You need to be careful while printing the output. Depending on your code might need data conversion.\n",
        "\n",
        "==========================================\n",
        "\n",
        "**Example:**\n",
        "\n",
        "**Input:**\\\n",
        "7, 13, -5, 10, 6\n",
        "\n",
        "**Output:**\\\n",
        "List: [7, 13, -5, 10, 6]\\\n",
        "Smallest number -5 was found at location 2\\\n",
        "Largest number 13 was found at location 1\n",
        "\n",
        "\n"
      ]
    },
    {
      "cell_type": "code",
      "metadata": {
        "id": "yiS5TWSDU1zY",
        "outputId": "16db13e2-d11f-49dd-af7e-b47ca2e97ecd",
        "colab": {
          "base_uri": "https://localhost:8080/"
        }
      },
      "source": [
        "#Todo\n",
        "arr = input(\"Enter a list of 5 numbers: \")\n",
        "arr = arr.split(\",\")\n",
        "newArr =[]\n",
        "for r in arr:\n",
        "  newArr.append(int(r))\n",
        "\n",
        "largest = newArr[0]\n",
        "LargLocation = 0\n",
        "smallest = newArr[0]\n",
        "smallestLocation = 0\n",
        "for z in range(len(newArr)):\n",
        "  if largest < newArr[z]:\n",
        "    largest = newArr[z]\n",
        "    LargLocation = z\n",
        "  if smallest > newArr[z]:\n",
        "    smallest = newArr[z]\n",
        "    smallestLocation = z\n",
        "print(\"Smallest number \"+str(smallest)+\" was found at location \"+str(smallestLocation))\n",
        "print(\"Largest number \"+str(largest)+\" was found at location \"+str(LargLocation))\n"
      ],
      "execution_count": 1,
      "outputs": [
        {
          "output_type": "stream",
          "text": [
            "Enter a list of 5 numbers: 7, 13, -5, 10, 6\n",
            "Largest number 13 was found at location 1\n",
            "Smallest number -5 was found at location 2\n"
          ],
          "name": "stdout"
        }
      ]
    },
    {
      "cell_type": "markdown",
      "metadata": {
        "id": "nwRZ3_0tC3fq"
      },
      "source": [
        "### Task17\n",
        "\n",
        "\n",
        "Write a python program that takes a string as an input from the user. Then modifies the string in such a way that the string always starts with an uppercase letter and the case of each subsequent letter is the opposite of the previous letter.  Then finally prints back the the modified string to the user.\n",
        "\n",
        "\n",
        "==========================================\n",
        "\n",
        "**Sample Input**\\\n",
        "Python programming is very easy\n",
        "\n",
        "**Sample Output**\\\n",
        "PyThOn PrOgRaMmInG iS vErY eAsY\n",
        "\n",
        "==========================================\n",
        "\n",
        "**Sample Input**\\\n",
        "I&nbsp;&nbsp;&nbsp;&nbsp;&nbsp;&nbsp;     love       &nbsp;&nbsp;&nbsp;&nbsp;&nbsp;&nbsp;&nbsp; Python &nbsp;&nbsp;&nbsp;&nbsp;&nbsp;&nbsp;&nbsp;&nbsp;Programming\n",
        "\n",
        "**Sample Output**\\\n",
        "I&nbsp;&nbsp;&nbsp;&nbsp;&nbsp;&nbsp;     lOvE       &nbsp;&nbsp;&nbsp;&nbsp;&nbsp;&nbsp;&nbsp;pYtHoN&nbsp;&nbsp;&nbsp;&nbsp;&nbsp;&nbsp;&nbsp;&nbsp;pRoGrAmMiNg\n",
        "\n",
        "==========================================\n",
        "\n",
        "**Sample Input**\\\n",
        "CSE110 Course\n",
        "\n",
        "**Sample Output**\\\n",
        "CsE110 cOuRsE\n",
        "\n",
        "\n",
        "\n",
        "==========================================\n",
        "\n",
        "**Sample Input**\\\n",
        "c\n",
        "\n",
        "**Sample Output**\\\n",
        "C\n",
        "\n",
        "\n"
      ]
    },
    {
      "cell_type": "code",
      "metadata": {
        "id": "LEnaTlyoMJdS",
        "outputId": "51e0a951-330f-44e4-8b90-0048b65a5616",
        "colab": {
          "base_uri": "https://localhost:8080/"
        }
      },
      "source": [
        "#todo\n",
        "string = input(\"Please enter a string:\")\n",
        "count = 1\n",
        "emptyStr = \"\"\n",
        "for r in string:\n",
        "  if r ==\" \":\n",
        "    emptyStr = emptyStr + r\n",
        "    # count = count + 1\n",
        "\n",
        "  else:\n",
        "    if count%2 != 0:\n",
        "      emptyStr = emptyStr + r.upper()\n",
        "      count = count + 1\n",
        "    else:\n",
        "      emptyStr = emptyStr + r.lower()\n",
        "      count = count + 1\n",
        "print(emptyStr)\n",
        "\n",
        "\n"
      ],
      "execution_count": 5,
      "outputs": [
        {
          "output_type": "stream",
          "text": [
            "Please enter a string:I       love         Python         Programming\n",
            "I       lOvE         pYtHoN         pRoGrAmMiNg\n"
          ],
          "name": "stdout"
        }
      ]
    },
    {
      "cell_type": "markdown",
      "metadata": {
        "id": "EEkcqbIJBKel"
      },
      "source": [
        "### Task 18 \n",
        "An anagram is a play on words created by rearranging the letters of the original word to make a new word or phrase.\n",
        "So we can say two words are anagrams if they contain all of the same letters, but in a different order.\n",
        "\n",
        "\n",
        "Write a python program that takes two strings from the user and tells if they are anagram or not.\n",
        "\n",
        "===============================\n",
        "\n",
        "<b>Input 1 </b><br/>\n",
        "dusty<br/>\n",
        "study<br/>\n",
        "<b> Output 1 </b> <br/>\n",
        "They are anagram<br/>\n",
        "\n",
        "===============================\n",
        "\n",
        "<b> Input 2 </b><br/>\n",
        "dustyyy<br/>\n",
        "study<br/>\n",
        "<b> Output 2 </b><br/>\n",
        "They are not anagram"
      ]
    },
    {
      "cell_type": "code",
      "metadata": {
        "id": "dvjY9pE2BLVT",
        "outputId": "53a4c180-0966-48c5-ee9a-5ff2fc318145",
        "colab": {
          "base_uri": "https://localhost:8080/"
        }
      },
      "source": [
        "# to do\n",
        "word1 = input(\"Please enter a word: \")\n",
        "word2 = input(\"Please enter a second word: \")\n",
        "arr1 = []\n",
        "arr2 = []\n",
        "for r in word1:\n",
        "  arr1.append(r)\n",
        "for z in word1:\n",
        "  arr2.append(z)\n",
        "arr1.sort()\n",
        "arr2.sort()\n",
        "if arr1 == arr2:\n",
        "  print(\"They are anagram\")\n",
        "else:\n",
        "  print(\"They are not anagram\")\n",
        "\n",
        "\n"
      ],
      "execution_count": 9,
      "outputs": [
        {
          "output_type": "stream",
          "text": [
            "Please enter a word: dusty\n",
            "Please enter a second word: study\n",
            "They are anagram\n"
          ],
          "name": "stdout"
        }
      ]
    },
    {
      "cell_type": "markdown",
      "metadata": {
        "id": "rguDZ8SBCHD8"
      },
      "source": [
        "### Task 19\n",
        "Write a Python program that takes two lists as an input from the user. Then print a new list with the **common elements** of both the input lists. \n",
        "\n",
        "=======================================\n",
        "\n",
        "*Hint:You need to create a third list to store the results. Use membership operators (in, not in) to make sure similar elements are added.*\n",
        "\n",
        "=======================================\n",
        "\n",
        "**Sample Input**<br/>\n",
        "A, B, C , D\n",
        "\n",
        "\n",
        "C, E , F, B\n",
        "\n",
        "\n",
        "**Sample Output**<br/>\n",
        "['C', 'B']\n",
        "\n",
        "=======================================\n",
        "\n",
        "**Sample Input**<br/>\n",
        "1, 3, A, H, P\n",
        "\n",
        "\n",
        "A, G, 1, P, O\n",
        "\n",
        "\n",
        "**Sample Output**<br/>\n",
        "['1', 'A', 'P']\n",
        "\n",
        "\n"
      ]
    },
    {
      "cell_type": "code",
      "metadata": {
        "id": "3iueGiPPGG66",
        "outputId": "dbc3bcc9-30b8-43e6-b63b-bb715275a317",
        "colab": {
          "base_uri": "https://localhost:8080/"
        }
      },
      "source": [
        "# to do\n",
        "word1 = input(\"Please enter a list seperated by coma: \")\n",
        "word2 = input(\"Please enter a list seperated by coma: \")\n",
        "arr1 = word1.split(\",\")\n",
        "arr2 = word2.split(\",\")\n",
        "newArr1 = []\n",
        "newArr2 = []\n",
        "for r in arr1:\n",
        "  newArr1.append(r.strip())\n",
        "for r in arr2:\n",
        "  newArr2.append(r.strip())\n",
        "emptArr = []\n",
        "for r in newArr1:\n",
        "  if r in newArr2:\n",
        "    emptArr.append(r)\n",
        "print(emptArr)\n"
      ],
      "execution_count": 14,
      "outputs": [
        {
          "output_type": "stream",
          "text": [
            "Please enter a list seperated by coma: A,G,1,P,O\n",
            "Please enter a list seperated by coma: 1,3,A,H,P\n",
            "['A', '1', 'P']\n"
          ],
          "name": "stdout"
        }
      ]
    },
    {
      "cell_type": "markdown",
      "metadata": {
        "id": "tjcE5oitCM2s"
      },
      "source": [
        "### Task 20\n",
        "\n",
        "Assume, you have been given two lists.\n",
        "\n",
        "[Your program should work for any two given lists]\n",
        "\n",
        "list_one = [1, 2 , 3, 2, 4, 5, 5, 7, 99, 200, 303, 70]\\\n",
        "list_two = [1, 1, 2, 3, 3, 3, 4, 5, 200, 500, -5]\n",
        "\n",
        "Write a Python program that creates a new list with all the **unique elements** of both the given lists. \n",
        "<font color='red'> **You need to make sure that no duplicates are in the result list**</font> and then finally print the result list.\n",
        "\n",
        "**Output**: \n",
        "[1, 2, 4, 5, 7, 99, 200, 303, 70, 3, 500, -5]\n",
        "\n",
        "**Hint:**You need to create a third list to store the results. Use membership operators (in, not in) to make sure no duplicates are added.\n",
        "\n"
      ]
    },
    {
      "cell_type": "code",
      "metadata": {
        "id": "b2TwkUqnGZU-",
        "outputId": "2971bc32-bb90-4913-d87c-58251cd616bd",
        "colab": {
          "base_uri": "https://localhost:8080/"
        }
      },
      "source": [
        "word1 =  [1, 2 , 3, 2, 4, 5, 5, 7, 99, 200, 303, 70]\n",
        "word2 =  [1, 2 , 3, 2, 4, 5, 5, 7, 99, 200, 303, 70]\n",
        "arr1 = word1.split(\",\")\n",
        "arr2 = word2.split(\",\")\n",
        "newArr1 = []\n",
        "newArr2 = []\n",
        "for r in arr1:\n",
        "  newArr1.append(r.strip())\n",
        "for r in arr2:\n",
        "  newArr2.append(r.strip())\n",
        "emptArr = []\n",
        "\n",
        "for r in newArr1:\n",
        "  if r not in newArr2 and r not in emptArr:\n",
        "    emptArr.append(r)\n",
        "for r in newArr2:\n",
        "  if r not in newArr1 and r not in emptArr:\n",
        "    emptArr.append(r)\n",
        "print(emptArr)"
      ],
      "execution_count": 15,
      "outputs": [
        {
          "output_type": "stream",
          "text": [
            "Please enter a list seperated by coma: 1, 2 , 3, 2, 4, 5, 5, 7, 99, 200, 303, 70\n",
            "Please enter a list seperated by coma: 1, 1, 2, 3, 3, 3, 4, 5, 200, 500, -5\n",
            "['7', '99', '303', '70', '500', '-5']\n"
          ],
          "name": "stdout"
        }
      ]
    }
  ]
}