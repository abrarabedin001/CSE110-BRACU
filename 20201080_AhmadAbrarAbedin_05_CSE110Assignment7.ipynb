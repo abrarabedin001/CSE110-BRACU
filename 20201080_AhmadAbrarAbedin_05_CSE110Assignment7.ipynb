{
  "nbformat": 4,
  "nbformat_minor": 0,
  "metadata": {
    "colab": {
      "name": "Copy of CSE110 Assignment07 (File _ Exception).ipynb",
      "provenance": [],
      "collapsed_sections": []
    },
    "kernelspec": {
      "name": "python3",
      "display_name": "Python 3"
    }
  },
  "cells": [
    {
      "cell_type": "markdown",
      "metadata": {
        "id": "ZXvFDb3VLf5p"
      },
      "source": [
        "# CSE110 Assignment 7\n",
        "\n",
        "\n",
        "**<font color='red'>[MUST MAINTAIN VARIABLE NAMING CONVENTIONS FOR ALL THE TASKS]</font>**\n",
        "\n",
        "## Part 1: File\n",
        "\n"
      ]
    },
    {
      "cell_type": "markdown",
      "metadata": {
        "id": "4fjLeMMMEEKB"
      },
      "source": [
        "### Task 1\n",
        "\n",
        "Write a python program that reads the first n lines of a text file.\n",
        "\n",
        "Suppose you have a file with all these strings in a file.\n",
        "\n",
        "=========================================================\n",
        "\n",
        "I love Python Programming.\\\n",
        "It is very easy to understand the code.\\\n",
        "It can code very hard problems easily in python code.\\\n",
        "Python programming is the best programming language.\n",
        "\n",
        "=========================================================\n",
        "\n",
        "\n",
        "**Input :**\\\n",
        "2\\\n",
        "**Output :**\\\n",
        "I love Python Programming.\\\n",
        "It is very easy to understand the code.\n",
        "\n",
        "=========================================================\n",
        "\n",
        "**Hint(1):**\\\n",
        "Use counter to control line number.\n",
        "\n",
        "**Hint(2):**\\\n",
        "Use function readlines() to store in a list and then use loop\n",
        "\n",
        "**Hint(3):**\\\n",
        "You might need to use strip() function"
      ]
    },
    {
      "cell_type": "code",
      "metadata": {
        "id": "Kb0Fn1AsEHVR"
      },
      "source": [
        "#todo\n",
        "file = open(\"text.txt\")\n",
        "line = int(input(\"enter the the number of lines you want to be printed:\"))\n",
        "r = 1\n",
        "for lines in file:\n",
        "    if r <= line:\n",
        "        print(lines.strip())\n",
        "        r += 1\n",
        "    else:\n",
        "        break\n",
        "file.close()"
      ],
      "execution_count": null,
      "outputs": []
    },
    {
      "cell_type": "markdown",
      "metadata": {
        "id": "6C9IjoWsEJlJ"
      },
      "source": [
        "### Task 2\n",
        "\n",
        "Write a python program to find the longest word in a file. Then print the word.\\\n",
        "**Input: [in a file]**\\\n",
        "I love Python Programming\\\n",
        "It is very easy to understand the code\\\n",
        "It can code very hard problems easily in python code\\\n",
        "Python programming is the best programming language\n",
        "\n",
        "\n",
        "\n",
        "**Output:**\\\n",
        "Programming\n",
        "\n",
        "=========================================================\n",
        "\n",
        "**Hint(1):**\\\n",
        "You can use split function to separate the words into a list.\n",
        "\n",
        "**Hint(2):**\\\n",
        "Use function readlines()"
      ]
    },
    {
      "cell_type": "code",
      "metadata": {
        "id": "WucZ7kEOEKrA"
      },
      "source": [
        "#todo\n",
        "file = open(\"text.txt\")\n",
        "for lines in file:\n",
        "    arr = lines.split()\n",
        "    largest = \"\"\n",
        "    for r in arr:\n",
        "        if len(r)>len(largest):\n",
        "            largest = r\n",
        "            print(largest)\n",
        "file.close()\n",
        "print(largest)"
      ],
      "execution_count": null,
      "outputs": []
    },
    {
      "cell_type": "markdown",
      "metadata": {
        "id": "Y0dBzRxdEK1R"
      },
      "source": [
        "### Task 3\n",
        "Write a python program that allows you to erase multiple spaces in a text file. Then re-write the sentence without extra spaces in a another text file.\n",
        "\n",
        "=========================================================\n",
        "\n",
        "**Input:**\n",
        "\n",
        "I&nbsp;&nbsp;&nbsp;&nbsp;&nbsp;&nbsp;love  &nbsp;&nbsp;&nbsp;&nbsp;&nbsp;&nbsp;&nbsp;             Python   &nbsp;&nbsp;&nbsp;&nbsp;&nbsp;&nbsp;&nbsp;&nbsp;          Programming\n",
        "\n",
        "**Output:**\\\n",
        "I love Python Programming.\n",
        "\n",
        "=========================================================\n",
        "\n",
        "**Hints:**\\\n",
        "You can use split function to separate the words into a list.\n"
      ]
    },
    {
      "cell_type": "code",
      "metadata": {
        "id": "a0yJHr82ENWF"
      },
      "source": [
        "#todo\n",
        "file = open(\"text.txt\")\n",
        "file2 = open(\"text2.txt\",\"w\")\n",
        "\n",
        "for lines in file:\n",
        "    arr = lines.split()\n",
        "    newLine = \"\"\n",
        "    for r in arr:\n",
        "        newLine = newLine + \" \" +r\n",
        "    file2.writelines(newLine+\"\\n\")\n",
        "file.close()\n",
        "file2.close()"
      ],
      "execution_count": null,
      "outputs": []
    },
    {
      "cell_type": "markdown",
      "metadata": {
        "id": "OOFNxcqqENje"
      },
      "source": [
        "### Task 4\n",
        "Write a Python program to count the number of lines in a text file. Then, finally print the total number of lines.\n",
        "\n",
        "=========================================================\n",
        "\n",
        "**Input:**\\\n",
        "Hello\\\n",
        "What are you doing\\\n",
        "I am fine\n",
        "\n",
        "**Output:**\\\n",
        "3\n"
      ]
    },
    {
      "cell_type": "code",
      "metadata": {
        "id": "PRPocuTJEP0v"
      },
      "source": [
        "#todo\n",
        "file = open(\"text.txt\")\n",
        "r = 0\n",
        "for line in file:\n",
        "    r+=1\n",
        "print(r)\n",
        "file.close()"
      ],
      "execution_count": null,
      "outputs": []
    },
    {
      "cell_type": "markdown",
      "metadata": {
        "id": "LiSNirheEQHf"
      },
      "source": [
        "### Task 5\n",
        "\n",
        "Write a Python program to combine each line from the first file with the corresponding line in the second file and then save it in a 3rd file.\n",
        "\n",
        "Consider, both the files have same number of lines. Assume, each line has a newline(\\n) at the end.\n",
        "\n",
        "=========================================================\n",
        "\n",
        "**Example:**\\\n",
        "**Input from file 1:**\\\n",
        "Hello\\\n",
        "Hi\\\n",
        "Nice\n",
        "\n",
        "**Input from file 2:**\\\n",
        "Bad\\\n",
        "Worse\\\n",
        "Worst\n",
        "\n",
        "**Output in 3rd FIle:**\\\n",
        "Hello Bad\\\n",
        "Hi Worse\\\n",
        "Nice Worst \n",
        "\n",
        "=========================================================\n",
        "\n",
        "**Hint(1):**\\\n",
        " Use the write() function\n",
        "\n",
        "\n",
        "\n"
      ]
    },
    {
      "cell_type": "code",
      "metadata": {
        "id": "b-b4xnHLETDY"
      },
      "source": [
        "#todo\n",
        "file = open(\"text.txt\")\n",
        "file2 = open(\"text2.txt\")\n",
        "file3 = open(\"text3.txt\",\"w\")\n",
        "arr1 = []\n",
        "arr2 = []\n",
        "for line in file:\n",
        "    arr1.append(line.split()[0])\n",
        "\n",
        "for line in file2:\n",
        "    arr2.append(line.split()[0])\n",
        "\n",
        "for i in range(len(arr1)):\n",
        "    print(arr1[i]+\" \"+arr2[i])\n",
        "    string = arr2[i]+\" \"+arr1[i]+\"\\n\"\n",
        "    file3.writelines(string)\n",
        "    \n",
        "file.close()\n",
        "file2.close()\n",
        "file3.close()"
      ],
      "execution_count": null,
      "outputs": []
    },
    {
      "cell_type": "markdown",
      "metadata": {
        "id": "uIYrt-t8ETUQ"
      },
      "source": [
        "\n",
        "### Task 6 (Ungraded - Optional task)\n",
        "Suppose you made a game and you stored information about the game play in a file.\\\n",
        "You stored Name, Score, Lives Used and Characters Killed of each players.\n",
        "\n",
        "**Existing file:**\\\n",
        "Mary,2000,5,25\\\n",
        "John,123455,12,50\\\n",
        "Peter,1500,5,10\\\n",
        "Harry,10000,10,30\\\n",
        "John,122,5,2\\\n",
        "Mary,5,1,1\\\n",
        "Peter,2,1,1\\\n",
        "John,123,5,10\\\n",
        "John,5,6,7\n",
        "\n",
        "**Now you have to make a new file where you have to store the following information:**\\\n",
        "1.In the first line you have to show the name and score of the player who scored the highest score.\n",
        "\n",
        "2.In the second line you have to store the name and lives used of players who used the least lives.\n",
        "\n",
        "3.In the third line you have to show the name and number of games played of the player who played the most games.\n",
        "\n",
        "**Output:**\\\n",
        "Name:John, Score:123455\\\n",
        "Name:Mary, Lives used:1\\\n",
        "Name:John, Games Played:4\n",
        "\n",
        "=========================================================\n",
        "\n",
        "**Hint(1):**\\\n",
        "Use dictionary where necessary.\\\n",
        "You are allowed to use max() min(), list.index(value) and str.split(separator) function.\n",
        "\n",
        "**Hint(2):**\\\n",
        "You need to use split function to get the data. The split function takes the separator as an argument.\n",
        "\n",
        "*Structure:*\n",
        "str.split(separator)\n",
        "\n",
        "*Example:*\n",
        "line = \"John,5,6,7\"\\\n",
        "line.split(',')\n",
        "\n",
        "**Hint(3):**\\\n",
        "You can use both write() and writelines() for writing the answers\n",
        "\n"
      ]
    },
    {
      "cell_type": "code",
      "metadata": {
        "id": "NOpi8SPREmVw"
      },
      "source": [
        "#todo\n",
        "file = open(\"text.txt\")\n",
        "\n",
        "arr1 = []\n",
        "for line in file:\n",
        "    empt = []\n",
        "    arr1.append(line.replace(\"\\n\",\"\").split(\",\"))\n",
        "highestScore = 0\n",
        "highestScoreName = \"\"\n",
        "lowestLife = 999999999999999999999999999999999999999999999999999999999999999999999999\n",
        "lowestLifeName = \"\"\n",
        "highestGame = 0\n",
        "highestGameName = \"\"\n",
        "dic = {}\n",
        "for r in range(len(arr1)):\n",
        "\n",
        "    if int(arr1[r][1])>highestScore :\n",
        "        highestScore = int(arr1[r][1])\n",
        "        highestScoreName = arr1[r][0]\n",
        "    if int(arr1[r][2])<lowestLife :\n",
        "        lowestLife = int(arr1[r][2])\n",
        "        lowestLifeName = arr1[r][0]\n",
        "    if dic.get(arr1[r][0]):\n",
        "        dic[arr1[r][0]] += 1\n",
        "    else:\n",
        "        dic[arr1[r][0]] = 1\n",
        "    for key in dic:\n",
        "        if dic[key]>highestGame:\n",
        "            highestGame = dic[key]\n",
        "            highestGameName = key\n",
        "string = \"Name:\"+highestScoreName+ \", Score:\"+str(highestScore)+\"\\n\"+\"Name:\"+lowestLifeName+ \", Lives used:\"+str(lowestLife)+\"\\n\"+\"Name:\"+highestGameName + \", Games Played:\" + str(highestGame)+\"\\n\"\n",
        "print(string)\n",
        "\n",
        "file.close()"
      ],
      "execution_count": null,
      "outputs": []
    },
    {
      "cell_type": "markdown",
      "metadata": {
        "id": "6J7MA_zNCbCg"
      },
      "source": [
        "## Part 2: Exception\n",
        "\n",
        "This assignment is to guide you to solve everything you have learned so far by implementing Exceptions in Python. \n"
      ]
    },
    {
      "cell_type": "markdown",
      "metadata": {
        "id": "tZow-v3MLoLE"
      },
      "source": [
        "### Task 7\n",
        "Given a list named my_list.\n",
        "my_list=[10,20,30,40,60,100,2,5]\n",
        "\n",
        "Write a python program that takes the position as an input from the user and prints the element of that position from the list. \n",
        "\n",
        "If the user’s input position is not in the range, return an exception stating “Index out of range”.\n",
        "\n",
        "Make sure your program always prints “Program ended” at the end, no matter what happens.\n",
        "\n",
        "=============================\n",
        "\n",
        "**Hint:** Use finally block\n",
        "\n",
        "=============================\n",
        "\n",
        "**Example 1:** \\\n",
        "**Input:**\\\n",
        "1\\\n",
        "**Output:**\\\n",
        "20\\\n",
        "Program ended\n",
        "\n",
        "=============================\n",
        "\n",
        "**Example 2:** \\\n",
        "**Input:**\\\n",
        "10\\\n",
        "**Output:**\\\n",
        "Index out of range.\\\n",
        "Program ended\n"
      ]
    },
    {
      "cell_type": "code",
      "metadata": {
        "id": "c9yKuS5kLdDO",
        "colab": {
          "base_uri": "https://localhost:8080/"
        },
        "outputId": "f1bbca27-be4b-46fd-f804-613456b49306"
      },
      "source": [
        "#To do\n",
        "my_list=[10,20,30,40,60,100,2,5]\n",
        "\n",
        "\n",
        "try:\n",
        "  num = int(input())\n",
        "  \n",
        "except IndexError:\n",
        "  print(\"Index out of range.\")\n",
        "else:\n",
        "  print(my_list[num])\n",
        "finally:\n",
        "  print(\"Program ended\")\n"
      ],
      "execution_count": 28,
      "outputs": [
        {
          "output_type": "stream",
          "text": [
            "6\n",
            "2\n",
            "Program ended\n"
          ],
          "name": "stdout"
        }
      ]
    },
    {
      "cell_type": "markdown",
      "metadata": {
        "id": "gD4MMyO_Mtw4"
      },
      "source": [
        "### Task 8\n",
        "\n",
        "Suppose you have a dictionary named my_dictionary containing the name of some groceries and their prices.\\\n",
        "my_dictionary={“Potato”:12, “Onion”:16, “Ginger”:15, “Garlic”:12, “Tomato”:15}\n",
        "\n",
        "Now write a python program that takes the grocerie names as input from the users and shows the total price of the groceries.\n",
        "\n",
        "Some exceptions to handle:\n",
        "* Handle the exception when the given key is not present in the dictionary.\n",
        "* Handle the exception when the summation variable is not initialized.\n",
        "\n",
        "=============================\n",
        "\n",
        "**Example 1:** \\\n",
        "**Input:**\\\n",
        "Potato,Onion,Ginger\\\n",
        "**Output:**\\\n",
        "43\n",
        "\n",
        "=============================\n",
        "\n",
        "**Example 2:** \\\n",
        "**Input:**\\\n",
        "Potato,Onion,Ginger,Beef\\\n",
        "**Output:**\\\n",
        "Some groceries are not available in the dictionary.\n"
      ]
    },
    {
      "cell_type": "code",
      "metadata": {
        "id": "15umlUXTNe5N",
        "colab": {
          "base_uri": "https://localhost:8080/"
        },
        "outputId": "e484b14e-dbbe-4984-fc62-20a3d96e245d"
      },
      "source": [
        "#To do\n",
        "my_dictionary={'Potato':12, 'Onion':16, 'Ginger':15, 'Garlic':12, 'Tomato':15}\n",
        "arr = input().split(',')\n",
        "sum = 0\n",
        "\n",
        "for r in arr:\n",
        "  try:\n",
        "    sum += my_dictionary[r]\n",
        "\n",
        "  except NameError:\n",
        "    print(\"Initialize the summation variable.\")\n",
        "  except KeyError:\n",
        "    print(\"Some groceries are not available in the dictionary.\")\n",
        "  else:\n",
        "    print(sum)\n"
      ],
      "execution_count": 16,
      "outputs": [
        {
          "output_type": "stream",
          "text": [
            "Potato,Onion,Ginger,Beef\n",
            "Some groceries are not available in the dictionary.\n",
            "43\n"
          ],
          "name": "stdout"
        }
      ]
    },
    {
      "cell_type": "markdown",
      "metadata": {
        "id": "l5SgF6kTN7vY"
      },
      "source": [
        "### Task 9\n",
        "Write a python program that takes two lists as input from the user, multiplies the index wise elements of the two lists and adds it to a new variable. While doing the program you should handle the following exceptions:\n",
        "* Return an exception when the new variable is not declared stating “The new variable is not declared”.\n",
        "* Return an exception if an element in a list is not a number stating “The list has some non number values”.\n",
        "* Return an exception if there is an index out of bound stating “Index out of bound”.\n",
        "\n",
        "=============================\n",
        "\n",
        "**Example 1:** \\\n",
        "**Input:**\\\n",
        "list_one = [1, a, 2, 4]\\\n",
        "list_two =[5, 6, 7, 8]\\\n",
        "**Output:**\\\n",
        "The list has some non number values\n",
        "\n",
        "=================\n",
        "\n",
        "**Example 2:** \\\n",
        "**Input:**\\\n",
        "list_one=[1, 2, 3, 4, 5]\\\n",
        "list_two=[1, 2, 3, 4]\\\n",
        "**Output:**\\\n",
        "Index out of bound\n",
        "\n",
        "=================\n",
        "\n",
        "**Example 3:** \\\n",
        "**Input:**\\\n",
        "list_one=[1,2,3,4]\\\n",
        "list_two=[5,6,7,8]\\\n",
        "**Output:**\\\n",
        "70\n",
        "\n",
        "\n"
      ]
    },
    {
      "cell_type": "code",
      "metadata": {
        "id": "oFpEZFRhOlvV",
        "colab": {
          "base_uri": "https://localhost:8080/"
        },
        "outputId": "2a757bba-4400-4698-b3d9-d2b6141a7577"
      },
      "source": [
        "#To do\n",
        "list1 = input(\"enter a list of numbers seperated by comma:\").split(\",\")\n",
        "list2 = input(\"enter a list of numbers seperated by comma:\").split(\",\")\n",
        "\n",
        "try:\n",
        "  sum1 = 0\n",
        "  for r in range(len(list1)):\n",
        "    sum1 += (int(list1[r])*int(list2[r]))\n",
        "  \n",
        "except IndexError:\n",
        "  print(\"Index out of bound\")  \n",
        "except ValueError:\n",
        "  print(\"The list has some non number values\") \n",
        "except NameError:\n",
        "  print(\"The new variable is not declared\") \n",
        "else:\n",
        "  print(sum1)"
      ],
      "execution_count": 35,
      "outputs": [
        {
          "output_type": "stream",
          "text": [
            "enter a list of numbers seperated by comma:1,2\n",
            "enter a list of numbers seperated by comma:1,2\n",
            "5\n"
          ],
          "name": "stdout"
        }
      ]
    },
    {
      "cell_type": "markdown",
      "metadata": {
        "id": "iBqIUN-WOnvW"
      },
      "source": [
        "### Task 10\n",
        "Write a python program that will take a string input from the user. Your task is to count the number of vowels and consonants in the string.\n",
        "\n",
        "Using try, if the number of vowels is greater than or equal to the number of consonants than raise a runtime error. Print 'Number of vowels greater/equal to consonants. Please, paraphrase'.\\\n",
        "Otherwise, print 'The sentence will work'. \n",
        "\n",
        "**Note:** a,e,i,o,u are called vowels and all the other 21 english alphabets are consonants.\n",
        "\n",
        "=============================\n",
        "\n",
        "**Example 1:** \\\n",
        "**Input:**\\\n",
        "'his age is 10'\\\n",
        "**Output:**\\\n",
        "Number of vowels is greater/equal. Paraphrase the sentence\n",
        "\n",
        "=================\n",
        "\n",
        "**Example 2:** \\\n",
        "**Input:**\\\n",
        "'he is 10 years old'\\\n",
        "**Output:**\\\n",
        "The sentence will work"
      ]
    },
    {
      "cell_type": "code",
      "metadata": {
        "id": "-4kg2W2EPwVo",
        "colab": {
          "base_uri": "https://localhost:8080/",
          "height": 248
        },
        "outputId": "f972822c-f7a1-4f6b-acdc-d802941cc50d"
      },
      "source": [
        "#To do\n",
        "\n",
        "vowels = [\"a\",\"e\",\"i\",\"o\",\"u\",\"A\",\"E\",\"I\",\"O\",\"U\"]\n",
        "consonents = [\"b\",\"c\",\"d\",\"f\",\"g\",\"h\",\"j\",\"k\",\"l\",\"m\",\"n\",\"p\",\"q\",\"r\",\"s\",\"t\",\"v\",\"w\",\"x\",\"y\",\"z\"]\n",
        "con = 0\n",
        "vow = 0\n",
        "sentence = input().lower().split()\n",
        "for r in sentence:\n",
        "  if r in consonents:\n",
        "    con += 1\n",
        "  if r in vowels:\n",
        "    vow += 1\n",
        "if vow >= con:\n",
        "  raise RuntimeError(\"Number of vowels greater/equal to consonants. Please, paraphrase\")\n",
        "else:\n",
        "  print(\"The sentence will work\")"
      ],
      "execution_count": 36,
      "outputs": [
        {
          "output_type": "stream",
          "text": [
            "his age is 10\n"
          ],
          "name": "stdout"
        },
        {
          "output_type": "error",
          "ename": "RuntimeError",
          "evalue": "ignored",
          "traceback": [
            "\u001b[0;31m---------------------------------------------------------------------------\u001b[0m",
            "\u001b[0;31mRuntimeError\u001b[0m                              Traceback (most recent call last)",
            "\u001b[0;32m<ipython-input-36-94b5a90f9826>\u001b[0m in \u001b[0;36m<module>\u001b[0;34m()\u001b[0m\n\u001b[1;32m     12\u001b[0m     \u001b[0mvow\u001b[0m \u001b[0;34m+=\u001b[0m \u001b[0;36m1\u001b[0m\u001b[0;34m\u001b[0m\u001b[0;34m\u001b[0m\u001b[0m\n\u001b[1;32m     13\u001b[0m \u001b[0;32mif\u001b[0m \u001b[0mvow\u001b[0m \u001b[0;34m>=\u001b[0m \u001b[0mcon\u001b[0m\u001b[0;34m:\u001b[0m\u001b[0;34m\u001b[0m\u001b[0;34m\u001b[0m\u001b[0m\n\u001b[0;32m---> 14\u001b[0;31m   \u001b[0;32mraise\u001b[0m \u001b[0mRuntimeError\u001b[0m\u001b[0;34m(\u001b[0m\u001b[0;34m\"Number of vowels greater/equal to consonants. Please, paraphrase\"\u001b[0m\u001b[0;34m)\u001b[0m\u001b[0;34m\u001b[0m\u001b[0;34m\u001b[0m\u001b[0m\n\u001b[0m\u001b[1;32m     15\u001b[0m \u001b[0;32melse\u001b[0m\u001b[0;34m:\u001b[0m\u001b[0;34m\u001b[0m\u001b[0;34m\u001b[0m\u001b[0m\n\u001b[1;32m     16\u001b[0m   \u001b[0mprint\u001b[0m\u001b[0;34m(\u001b[0m\u001b[0;34m\"The sentence will work\"\u001b[0m\u001b[0;34m)\u001b[0m\u001b[0;34m\u001b[0m\u001b[0;34m\u001b[0m\u001b[0m\n",
            "\u001b[0;31mRuntimeError\u001b[0m: Number of vowels greater/equal to consonants. Please, paraphrase"
          ]
        }
      ]
    },
    {
      "cell_type": "markdown",
      "metadata": {
        "id": "pl4CDeUkPxeM"
      },
      "source": [
        "### Task 11\n",
        "Write a python program that finds the corresponding energy values from a list of frequency values which are taken as input from the user, using the formula, $E=h*f$, where h is a constant of value: 1050\n",
        "\n",
        "Exceptions to handle:\n",
        "* Make sure all elements in the lists are numbers\n",
        "\n",
        "=============================\n",
        "\n",
        "**Example 1:** \\\n",
        "**Input:**\\\n",
        "[2,3]\\\n",
        "**Output:**\\\n",
        "[2100, 3150]\n",
        "\n",
        "=================\n",
        "\n",
        "**Example 2:** \\\n",
        "**Input:**\\\n",
        "[2,boss]\\\n",
        "**Output:**\\\n",
        "Wrong input type"
      ]
    },
    {
      "cell_type": "code",
      "metadata": {
        "id": "vdYQH9qnQvVo",
        "colab": {
          "base_uri": "https://localhost:8080/"
        },
        "outputId": "a79ca4ca-adcb-409d-fbb2-ec6b3723245f"
      },
      "source": [
        "#To do\n",
        "try:\n",
        "  num = input(\"Enter two numbers seperated by a comma: \").split(\",\")\n",
        "  newArr = []\n",
        "  for r in num:\n",
        "    newArr.append(int(r)*1050)\n",
        "  print(newArr)\n",
        "except ValueError:\n",
        "  print(\"Wrong input type\")"
      ],
      "execution_count": 37,
      "outputs": [
        {
          "output_type": "stream",
          "text": [
            "Enter two numbers seperated by a comma: 2,3\n",
            "[2100, 3150]\n"
          ],
          "name": "stdout"
        }
      ]
    },
    {
      "cell_type": "markdown",
      "metadata": {
        "id": "RdshPzpJRcsD"
      },
      "source": [
        "### Task 12\n",
        "Write a python function that will remove a given character from a sentence based on the starting and ending index of the sentence. In the place of the removed characters, add the count of the number of characters removed so far. For this program, you need to take 4 user inputs.\n",
        "* Sentence\n",
        "* Character to be removed\n",
        "* Starting index (inclusive)\n",
        "* Ending index (inclusive)\n",
        "\n",
        "Few exceptions to catch: \n",
        "* Name Error if a variable is not found. Print ‘Name Error: Variable not defined’\n",
        "* Value Error if the starting index and ending index is not an integer. Print ‘Value Error: Wrong input, please enter an integer value.’\n",
        "* Type Error when adding count in the new sentence. Print ‘Type Error: Cannot add integer value with string.’\n",
        "* Index Error if the starting and ending index is out of range. Print ‘Index Error: Index is outside the range of sentence length.’\n",
        "* For other exceptions, catch Exception. Print ‘Some other error occurred.’\n",
        "\n",
        "If no exception occurred, print the new string using else block. At the end using finally, print ‘The program execution is complete’.\n",
        "\n",
        "=============================\n",
        "\n",
        "**Example 1:** \\\n",
        "**Input:**\\\n",
        "'my python programming book'\\\n",
        "'m'\\\n",
        "2\\\n",
        "20\\\n",
        "**Output:**\\\n",
        "my python progra12ing book\\\n",
        "The program execution is complete\n",
        "\n",
        "=================\n",
        "\n",
        "**Example 2:** \\\n",
        "**Input:**\\\n",
        "'my python programming book'\\\n",
        "'m'\\\n",
        "2.5\\\n",
        "20\\\n",
        "**Output:**\\\n",
        "Value Error: Wrong input, please enter an integer value.\\\n",
        "The program execution is complete\n",
        "\n",
        "=================\n",
        "\n",
        "**Example 3:** \\\n",
        "**Input:**\\\n",
        "'my python programming book'\\\n",
        "'m'\\\n",
        "2\\\n",
        "100\\\n",
        "**Output:**\\\n",
        "Index Error: Index is outside the range of sentence length.\\\n",
        "The program execution is complete\n"
      ]
    },
    {
      "cell_type": "code",
      "metadata": {
        "id": "bcU6dV5BSl7d",
        "colab": {
          "base_uri": "https://localhost:8080/"
        },
        "outputId": "f9218849-d1c9-4378-e8d3-12f7933c7c91"
      },
      "source": [
        "#To do\n",
        "def funcyfunc():\n",
        "    try:\n",
        "      sentence = input(\"Sentence: \")\n",
        "      character = input(\"character: \")\n",
        "      starting = int(input(\"starting(inclusive): \"))\n",
        "      ending = int(input(\"ending(inclusive): \"))\n",
        "      empStr = \"\"\n",
        "      count = 0\n",
        "      if ending < len(sentence)+1:\n",
        "        ArrEnding = len(sentence)+1\n",
        "      else:\n",
        "        ArrEnding = ending + 1\n",
        "      for r in range(ArrEnding):\n",
        "        if r >= starting and r <= ending:\n",
        "          if sentence[r] == character:\n",
        "            count += 1\n",
        "            empStr += str(count)\n",
        "          else:\n",
        "            empStr += sentence[r]\n",
        "        else:\n",
        "            empStr += sentence[r]\n",
        "      print(empStr)\n",
        "    except IndexError:\n",
        "      print(\"Index Error: Index is outside the range of sentence length.\")\n",
        "    except NameError:\n",
        "      print(\"Name Error: Variable not defined\")\n",
        "    except TypeError:\n",
        "      print(\"Type Error: Cannot add integer value with string.\")\n",
        "    except ValueError:\n",
        "      print(\"Value Error: Wrong input, please enter an integer value.\")\n",
        "    except Exception:\n",
        "      print(\"Some other exception has occurred.\")\n",
        "    finally:\n",
        "      print(\"The program execution is complete.\")\n",
        "\n",
        "\n",
        "funcyfunc()"
      ],
      "execution_count": 38,
      "outputs": [
        {
          "output_type": "stream",
          "text": [
            "Sentence: my python programming book\n",
            "character: m\n",
            "starting(inclusive): 0\n",
            "ending(inclusive): 40\n",
            "Index Error: Index is outside the range of sentence length.\n",
            "The program execution is complete.\n"
          ],
          "name": "stdout"
        }
      ]
    },
    {
      "cell_type": "markdown",
      "metadata": {
        "id": "SjU5ufx8Snv3"
      },
      "source": [
        "### Task 13\n",
        "Read a **file** from the user which contains the  name and salary of employees. Convert that to a dictionary where the key is the name of each employee and value is the salary of that employee. Then find the total cost for the company that it needs to pay through employees’ salary. Print the dictionary and sum if no exception occurs.\n",
        "\n",
        "Exception to handle:\n",
        "* check whether file is actually there\n",
        "* Check whether the salary in each line is a number or not.\n",
        "* Raise error if there are extra numbers or names\n",
        "\n",
        "=============================\n",
        "\n",
        "**Example 1:** \\\n",
        "**Input:**\\\n",
        "Saadat 100\\\n",
        "Farzad 200\\\n",
        "Atef 300\\\n",
        "**Output:**\\\n",
        "dict={Saadat : 100, Farzad : 200, Atef : 300}\\\n",
        "Sum = 600\n",
        "\n",
        "=================\n",
        "\n",
        "**Example 2:** \\\n",
        "**Input:**\\\n",
        "Saadat 100\\\n",
        "Farzad 200\\\n",
        "Atef 300\\\n",
        "John\\\n",
        "**Output:**\\\n",
        "Extra Statement\n"
      ]
    },
    {
      "cell_type": "code",
      "metadata": {
        "id": "SUxJ1iCXUAPg"
      },
      "source": [
        "#To do\n",
        "filename = input(\"Enter a proper file name:\")\n",
        "cantPass = False\n",
        "while cantPass == False :\n",
        "\n",
        "    try:\n",
        "        file = open(filename)\n",
        "    except FileNotFoundError:\n",
        "        filename = input(\"Enter a proper file name:\")\n",
        "    else:\n",
        "        \n",
        "        cantPass = True\n",
        "        file = open(filename)\n",
        "\n",
        "arr1 = []\n",
        "dic = {}\n",
        "sum = 0\n",
        "try:\n",
        "    for lines in file:\n",
        "        arr = lines.split()\n",
        "        if len(arr)!=2:\n",
        "            raise RuntimeError(\"Extra numbers or names.\")\n",
        "\n",
        "        sum += int(arr[1])\n",
        "        dic[arr[0]] = int(arr[1])\n",
        "except ValueError:\n",
        "    print(\"The salary must be a number.\")\n",
        "else:\n",
        "    print(\"dict =\",dic)\n",
        "    print(\"sum =\",sum)\n"
      ],
      "execution_count": null,
      "outputs": []
    },
    {
      "cell_type": "markdown",
      "metadata": {
        "id": "GC6Y943uUNHY"
      },
      "source": [
        "### Task 14\n",
        "Imagine Salman Khan is going to the sets of a new movie. He decides to cycle everyday on his way to the sets. For that he uses a distance calculator which finds the distance based on the present day's date, which is asked as an input from the user. You should first take the day and then the month as your inputs.\n",
        "The inputs should be stored in variables named `day` and `month` The distance calculator uses the following formulae to calculate a number which dictates the number of kilometers he must cycle on his way to work.\n",
        "\n",
        "Exceptions to handle:\\\n",
        "-Check for 0 division error exception\\\n",
        "-Type error exception when taking date as input(if the input does not contain number)\\\n",
        "-Value error exception, as day can not be greater than 31 and month can not be greater than 12\n",
        "\n",
        "\n",
        "\n",
        "\n",
        "\n",
        "Distance = |if day<10, `5+(day*2)/month`\\\n",
        "&nbsp;&nbsp;&nbsp;&nbsp;&nbsp;&nbsp;&nbsp;&nbsp;&nbsp;&nbsp;&nbsp;&nbsp;&nbsp;&nbsp;&nbsp;&nbsp;&nbsp;&nbsp;&nbsp; |else, `3+(day/month)`\n",
        "\n",
        "\n",
        "\n",
        "=============================\n",
        "\n",
        "\n",
        "**Example 1:** \\\n",
        "**Input:**\\\n",
        "3\\\n",
        "5\\\n",
        "**Output:**\\\n",
        "6.2 kilometres\n",
        "\n",
        "=================\n",
        "\n",
        "**Example 2:** \\\n",
        "**Input:**\\\n",
        "2\\\n",
        "0\\\n",
        "**Output:**\\\n",
        "0 is not a valid month\n",
        "\n",
        "=============================\n",
        "\n",
        "**Example 3:** \\\n",
        "**Input:**\\\n",
        "35\\\n",
        "12\\\n",
        "**Output:**\\\n",
        "35 is not a valid day of any month\n",
        "\n",
        "=============================\n",
        "\n",
        "**Example 4:** \\\n",
        "**Input:**\\\n",
        "Hello\\\n",
        "12\\\n",
        "**Output:**\\\n",
        "Please do not enter any string as input\n",
        "\n",
        "=============================\n",
        "\n",
        "\n",
        "**Example 5:** \\\n",
        "**Input:**\\\n",
        "15\\\n",
        "12\\\n",
        "**Output:**\\\n",
        "4.25 kilometres\n",
        "\n",
        "\n",
        "\n",
        "\n"
      ]
    },
    {
      "cell_type": "code",
      "metadata": {
        "id": "fg9mQUaEWH7a",
        "colab": {
          "base_uri": "https://localhost:8080/"
        },
        "outputId": "5ef6e523-55f4-4776-aa7e-77e30ad81d72"
      },
      "source": [
        "try:\n",
        "  day = int(input(\"input day: \"))\n",
        "  month = int(input(\"input month: \"))\n",
        "  if day>=1 and day<=31 and month>=1 and month<=12:\n",
        "    final_month = month\n",
        "    final_day = day\n",
        "  if day<10:\n",
        "    distance = 5+(final_day*2)/final_month\n",
        "  else:\n",
        "    distance = 3+(final_day/final_month)\n",
        "except TypeError:\n",
        "  print(\"please enter valid numbers.\")\n",
        "except ValueError:\n",
        "  print(\"your values must be integers. \")\n",
        "except NameError:\n",
        "    if day<1 or day>31:\n",
        "        print(str(day),\" is not a valid day of any month.\")\n",
        "    if month<1 or month>12:\n",
        "        print(str(month),\" is not a valid month.\")\n",
        "except ZeroDivisionError:\n",
        "  print(\"0 is not a valid input.\")\n",
        "else:\n",
        "  print(distance,\" kilometer(s)\")"
      ],
      "execution_count": 21,
      "outputs": [
        {
          "output_type": "stream",
          "text": [
            "input day: sdfsdf\n",
            "your values must be integers. \n"
          ],
          "name": "stdout"
        }
      ]
    },
    {
      "cell_type": "markdown",
      "metadata": {
        "id": "2Xzq6xJNWvbf"
      },
      "source": [
        "### Task 15\n",
        "Write a python program to make a calculator. The user must input a string consisting of a number, operator and another number separated by white spaces.\n",
        "* If the user’s input does not contain 3 elements, raise an exception error stating “Input does not contain 3 elements/Wrong operator”.\n",
        "* If the user inputs any other values except numbers in first and third position of the input, raise value error exception stating “Input does not contain numbers.” \n",
        "* If the user does not input ‘+’ or ‘-’ or ’/’ or ‘*’ or ‘%’ in second position of the input, again raise an exception stating “Input does not contain 3 elements/Wrong operator”.\n",
        "* In case of division, also handle divide by zero exception.\n",
        "\n",
        "If all the inputs are correct, calculate the result and print the value.\n",
        "\n",
        "\n",
        "=============================\n",
        "\n",
        "\n",
        "**Example 1:** \\\n",
        "**Input:**\\\n",
        "1 + 1 + 1\\\n",
        "**Output:**\\\n",
        "Input does not contain 3 elements/Wrong operator\n",
        "\n",
        "=================\n",
        "\n",
        "**Example 2:** \\\n",
        "**Input:**\\\n",
        "A * B\\\n",
        "**Output:**\\\n",
        "Input does not contain numbers.\n",
        "\n",
        "=================\n",
        "\n",
        "**Example 3:** \\\n",
        "**Input:**\\\n",
        "1 $ 3\\\n",
        "**Output:**\\\n",
        "Input does not contain 3 elements/Wrong operator\n",
        "\n",
        "=================\n",
        "\n",
        "**Example 4:** \\\n",
        "**Input:**\\\n",
        "1 + 1\\\n",
        "**Output:**\\\n",
        "The answer is : 2\n"
      ]
    },
    {
      "cell_type": "code",
      "metadata": {
        "id": "vX2d7DiVXbhc",
        "colab": {
          "base_uri": "https://localhost:8080/"
        },
        "outputId": "b7a2868e-d5bd-49d6-c8dc-4b4b8e59161e"
      },
      "source": [
        "#To do\n",
        "sent = input(\"The user must input a string consisting of a number, operator and another number separated by white spaces: \")\n",
        "arr = sent.split(\" \")\n",
        "if len(arr)!=3:\n",
        "  raise Exception(\"Input does not contain 3 elements/Wrong operator\")\n",
        "try:\n",
        "  num1 = int(arr[0])\n",
        "  num2 = int(arr[2])\n",
        "  opp = arr[1]\n",
        "  if opp == \"+\":\n",
        "    print(num1+num2)\n",
        "  elif opp == \"-\":\n",
        "    print(num1-num2)\n",
        "  elif opp == \"/\":\n",
        "    print(num1/num2)\n",
        "  elif opp ==\"*\":\n",
        "    print(num1*num2)\n",
        "  else:\n",
        "    raise Exception(\"Input does not contain 3 elements/Wrong operator\")\n",
        "except ValueError:\n",
        "  print(\"Input does not contain numbers.\")"
      ],
      "execution_count": 27,
      "outputs": [
        {
          "output_type": "stream",
          "text": [
            "The user must input a string consisting of a number, operator and another number separated by white spaces: a + b\n",
            "Input does not contain numbers.\n"
          ],
          "name": "stdout"
        }
      ]
    },
    {
      "cell_type": "code",
      "metadata": {
        "id": "WXQ2F6GODSwM"
      },
      "source": [
        ""
      ],
      "execution_count": null,
      "outputs": []
    }
  ]
}