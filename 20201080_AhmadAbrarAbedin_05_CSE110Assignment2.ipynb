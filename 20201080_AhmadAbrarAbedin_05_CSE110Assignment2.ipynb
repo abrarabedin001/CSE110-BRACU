{
  "nbformat": 4,
  "nbformat_minor": 0,
  "metadata": {
    "kernelspec": {
      "display_name": "Python 3",
      "language": "python",
      "name": "python3"
    },
    "language_info": {
      "codemirror_mode": {
        "name": "ipython",
        "version": 3
      },
      "file_extension": ".py",
      "mimetype": "text/x-python",
      "name": "python",
      "nbconvert_exporter": "python",
      "pygments_lexer": "ipython3",
      "version": "3.7.6"
    },
    "colab": {
      "name": "20201080_AhmadAbrarAbedin_05_CSE110Assignment2.ipynb",
      "provenance": [],
      "collapsed_sections": []
    }
  },
  "cells": [
    {
      "cell_type": "markdown",
      "metadata": {
        "id": "4wbfWEkOSK4T"
      },
      "source": [
        "# CSE110 Assignment 2 \n",
        "\n",
        "This assignment is to guide you to solve basic programming problems using loop in Python. \n",
        "\n",
        "**<font color='red'>[MUST MAINTAIN VARIABLE NAMING CONVENTIONS FOR ALL THE TASKS]</font>**\n",
        "\n",
        "## Write the Python code of the following problems:"
      ]
    },
    {
      "cell_type": "markdown",
      "metadata": {
        "id": "w269kMywSK4V"
      },
      "source": [
        "### Task 1\n",
        "\n",
        "Write python program, which prints the following sequences of values in loops:\n",
        "\n",
        "a)\t24, 18, 12, 6, 0, -6\\\n",
        "b)\t-10, -5, 0, 5, 10, 15, 20\\\n",
        "c)\t18, 27, 36, 45, 54, 63\\\n",
        "d)\t18,-27, 36,-45,54,-63\n",
        "\n",
        "=====================================================================\n",
        "\n",
        "**Hints(1):** Use a while loop for solving these problems.\n",
        "\n",
        "**Hints(2):** We are already familiar with the print() function. But when we use it to print any value it automatically adds an additional newline after each print statement.\n",
        "\n",
        "For example:\\\n",
        "print(1)\\\n",
        "print(2)\n",
        "\n",
        "Output:\\\n",
        "1\\\n",
        "2\n",
        "\n",
        "=====================================================================\n",
        "\n",
        "To solve this problem, in Python3, we need to add an extra argument (end = \" \") in the print function which tells the program to skip printing the additional newline.\n",
        "\n",
        "For example:\\\n",
        "print(1, end =\" \")\\\n",
        "print(2)\n",
        "\n",
        "Output:(prints the next output right to the previous one)\\\n",
        "12\n",
        "\n",
        "=====================================================================\n",
        "\n",
        "In Task-1(a), the loop counter should be initialized at 24 and the loop should terminate when the loop counter reaches -6. The difference between the first two values is 24-18=6. So the loop counter value is getting decremented by 6 in every iteration.\n",
        "\n",
        "For your understanding task 1(a) code is done for you.\n"
      ]
    },
    {
      "cell_type": "code",
      "metadata": {
        "id": "H9nuTYCuSK4X",
        "outputId": "e1a08b2f-ccc1-4896-b1ec-5904ba1945d5"
      },
      "source": [
        "# a) 24, 18, 12, 6, 0, -6\n",
        "\n",
        "# initialize loop counter\n",
        "counter = 24\n",
        "\n",
        "# loop structure\n",
        "while counter >= -6:\n",
        "    \n",
        "    #inside loop body\n",
        "    if counter == -6:\n",
        "        print(counter, end = \"\") \n",
        "    else:\n",
        "        print(counter, end = \", \") \n",
        "     \n",
        "    counter = counter - 6 #updating loop counter\n",
        "    #inside loop body\n",
        "    \n",
        "#outside loop body"
      ],
      "execution_count": null,
      "outputs": [
        {
          "output_type": "stream",
          "text": [
            "24, 18, 12, 6, 0, -6"
          ],
          "name": "stdout"
        }
      ]
    },
    {
      "cell_type": "code",
      "metadata": {
        "id": "YWLB_TuLSK4h",
        "outputId": "3177d627-536d-41b4-96b9-792821f93727",
        "colab": {
          "base_uri": "https://localhost:8080/",
          "height": 34
        }
      },
      "source": [
        "# b)-10, -5, 0, 5, 10, 15, 20\n",
        "for counter in range(-10,21,5):\n",
        "    if counter == 20:\n",
        "        print(counter, end = \"\") \n",
        "    else:\n",
        "        print(counter, end = \", \") "
      ],
      "execution_count": null,
      "outputs": [
        {
          "output_type": "stream",
          "text": [
            "-10, -5, 0, 5, 10, 15, 20"
          ],
          "name": "stdout"
        }
      ]
    },
    {
      "cell_type": "code",
      "metadata": {
        "id": "b5blHg8zSK4n",
        "outputId": "4eecc864-78ae-425e-b69b-7d06991961c7",
        "colab": {
          "base_uri": "https://localhost:8080/",
          "height": 35
        }
      },
      "source": [
        "# c)18, 27, 36, 45, 54, 63\n",
        "for counter in range(18,64,9):\n",
        "    if counter == 63:\n",
        "        print(counter, end = \"\") \n",
        "    else:\n",
        "        print(counter, end = \", \") "
      ],
      "execution_count": null,
      "outputs": [
        {
          "output_type": "stream",
          "text": [
            "18, 27, 36, 45, 54, 63"
          ],
          "name": "stdout"
        }
      ]
    },
    {
      "cell_type": "markdown",
      "metadata": {
        "id": "VlRJZhqVSK4v"
      },
      "source": [
        "**Hints for 1(d):** \n",
        "\n",
        "print(5 * (-1)) gives output -5\\\n",
        "print(\"-\" + str(5)) gives output -5"
      ]
    },
    {
      "cell_type": "code",
      "metadata": {
        "id": "lA6BDPaaSK4v",
        "outputId": "f0a43cf3-e25f-459e-ee2e-66ca1cc9a50d",
        "colab": {
          "base_uri": "https://localhost:8080/",
          "height": 34
        }
      },
      "source": [
        "# d)18,-27, 36,-45,54,-63\n",
        "index = 1;\n",
        "for counter in range( 18, 64, 9):\n",
        "    \n",
        "    \n",
        "    if index%2 != 0:\n",
        "          print(counter* 1, end = \", \") \n",
        "          index+=1\n",
        "    else:\n",
        "          print(counter* -1, end = \", \") \n",
        "          index+=1\n",
        "\n",
        "    "
      ],
      "execution_count": 2,
      "outputs": [
        {
          "output_type": "stream",
          "text": [
            "18, -27, 36, -45, 54, -63, "
          ],
          "name": "stdout"
        }
      ]
    },
    {
      "cell_type": "markdown",
      "metadata": {
        "id": "fB7DLiLjSK41"
      },
      "source": [
        "====================================================================\\\n",
        "<font color='blue'>\n",
        "All the tasks can be solved using both the \"while loop\" and the \"for loop\". But you need to choose the best looping construct which is the most suitable for solving a particular task.\n",
        "</font>\n",
        "\n",
        "===================================================================="
      ]
    },
    {
      "cell_type": "markdown",
      "metadata": {
        "id": "RGkTLNE8SK43"
      },
      "source": [
        "### Task 2\n",
        "Write a Python code for the following:\n",
        "\n",
        "1)\tAsk the user to enter the name of his favorite car.\\\n",
        "2)\tAsk the user to enter a Number\n",
        "\n",
        "Display the name of the user’s favorite car, the number of times specified in the second step.\n",
        "\n",
        "==========================================================\n",
        "\n",
        "**Example 01:** If the user enters “Toyota” and 20, your program should print the name “Toyota” twenty times.\n",
        "\n",
        "**Input:**\\\n",
        "Toyota\\\n",
        "2\n",
        "\n",
        "**Output:**\\\n",
        "Toyota\\\n",
        "Toyota\n",
        "\n",
        "==========================================================\n",
        "\n",
        "**Example02:** If the user enters “Veyron” and 5, your program should print the name “Veyron” five times.\n",
        "\n",
        "**Input:**\\\n",
        "Veyron\\\n",
        "5\n",
        "\n",
        "**Output:**\\\n",
        "Veyron\\\n",
        "Veyron\\\n",
        "Veyron\\\n",
        "Veyron\\\n",
        "Veyron\n"
      ]
    },
    {
      "cell_type": "code",
      "metadata": {
        "id": "u5yX33mvSK45",
        "outputId": "b7c06512-65a7-4230-8004-0acdcd559035",
        "colab": {
          "base_uri": "https://localhost:8080/",
          "height": 102
        }
      },
      "source": [
        "#Todo\n",
        "carName = input(\"Enter a car name: \")\n",
        "repeat = int(input(\"Enter a number: \"))\n",
        "for r in range(repeat):\n",
        "  print(carName)"
      ],
      "execution_count": null,
      "outputs": [
        {
          "output_type": "stream",
          "text": [
            "hukkahua\n",
            "3\n",
            "hukkahua\n",
            "hukkahua\n",
            "hukkahua\n"
          ],
          "name": "stdout"
        }
      ]
    },
    {
      "cell_type": "markdown",
      "metadata": {
        "id": "xT0l0U35SK5A"
      },
      "source": [
        "### Task 3\n",
        "Write a Python code of a program that adds all numbers that are multiples of **both 7 and 9** up to 600 (including 600).\n",
        "\n",
        "Output: 2835\n"
      ]
    },
    {
      "cell_type": "code",
      "metadata": {
        "id": "Q6dix8WhSK5B",
        "outputId": "52771547-5f79-4599-bf93-a9912d68c7a2",
        "colab": {
          "base_uri": "https://localhost:8080/",
          "height": 34
        }
      },
      "source": [
        "#Todo\n",
        "sum = 0\n",
        "for r in range(601):\n",
        "  if r%7==0 and r%9==0:\n",
        "    sum += r\n",
        "print(sum)"
      ],
      "execution_count": null,
      "outputs": [
        {
          "output_type": "stream",
          "text": [
            "2835\n"
          ],
          "name": "stdout"
        }
      ]
    },
    {
      "cell_type": "markdown",
      "metadata": {
        "id": "8swUoCy9SK5F"
      },
      "source": [
        "### Task 4\n",
        "Write a Python code of a program that adds all numbers that are multiples of **either 7 or 9** up to 600(including 600). \\\n",
        "Ensure that numbers like 63 are added only once in the sum.\n",
        "\n",
        "Output: 42649\n"
      ]
    },
    {
      "cell_type": "code",
      "metadata": {
        "id": "pbIA-waFSK5G",
        "outputId": "f548bfea-c90b-4005-bf7d-8374d078d32a",
        "colab": {
          "base_uri": "https://localhost:8080/",
          "height": 34
        }
      },
      "source": [
        "#Todo\n",
        "sum = 0\n",
        "for r in range(601):\n",
        "  if r%7==0 or r%9==0:\n",
        "    sum += r\n",
        "print(sum)"
      ],
      "execution_count": null,
      "outputs": [
        {
          "output_type": "stream",
          "text": [
            "42649\n"
          ],
          "name": "stdout"
        }
      ]
    },
    {
      "cell_type": "markdown",
      "metadata": {
        "id": "H3hLyguASK5L"
      },
      "source": [
        "### Task 5\n",
        "Write a Python code of a program that adds all numbers that are multiples of **either 7 or 9 but not both**, up to 600(including 600).\n",
        "\n",
        "Output: 39814\n"
      ]
    },
    {
      "cell_type": "code",
      "metadata": {
        "id": "LiAvUr1QSK5M",
        "outputId": "b0f4b01f-f1f7-409e-c208-55d7ec8b7ebc",
        "colab": {
          "base_uri": "https://localhost:8080/",
          "height": 34
        }
      },
      "source": [
        "#Todo\n",
        "sum = 0\n",
        "for r in range(601):\n",
        "  if r%7==0 and r%9==0:\n",
        "    continue\n",
        "  elif r%7==0 or r%9==0:\n",
        "    sum += r\n",
        "print(sum)"
      ],
      "execution_count": null,
      "outputs": [
        {
          "output_type": "stream",
          "text": [
            "39814\n"
          ],
          "name": "stdout"
        }
      ]
    },
    {
      "cell_type": "markdown",
      "metadata": {
        "id": "8SmvPvfaSK5P"
      },
      "source": [
        "### Task 6\n",
        "Write a Python code to displays all the **odd numbers** between 10 and 50.\n",
        "\n",
        "Output: 11 13 15 17 19 21 23 25 27 29 31 33 35 37 39 41 43 45 47 49\n"
      ]
    },
    {
      "cell_type": "code",
      "metadata": {
        "id": "PJmT9fvuSK5Q",
        "outputId": "f9a635e8-a391-421e-e066-2b811305ac6e",
        "colab": {
          "base_uri": "https://localhost:8080/",
          "height": 34
        }
      },
      "source": [
        "#Todo\n",
        "sum = 0\n",
        "for r in range(11,50,2):\n",
        "  print(r,end=\" \")"
      ],
      "execution_count": 3,
      "outputs": [
        {
          "output_type": "stream",
          "text": [
            "11 13 15 17 19 21 23 25 27 29 31 33 35 37 39 41 43 45 47 49 "
          ],
          "name": "stdout"
        }
      ]
    },
    {
      "cell_type": "markdown",
      "metadata": {
        "id": "Nw4dX_MeSK5V"
      },
      "source": [
        "### Task 7\n",
        "Write a Python code that will calculate the **value of y if the expression** of y is as follows (n is the input):  \n",
        "\n",
        "$y = 1^2 - 2^2 +3^2 -4^2 +5^2 .........+ n^2 $\n",
        "\n",
        "\n",
        "==========================================================\n",
        "\n",
        "**Example01:** \n",
        "\n",
        "**Input:**\\\n",
        "10\n",
        "\n",
        "**Output:**\\\n",
        "-55\n",
        "\n",
        "==========================================================\n",
        "\n",
        "**Example02:** \n",
        "\n",
        "**Input:**\\\n",
        "20\n",
        "\n",
        "**Output:**\\\n",
        "-210\n",
        "\n"
      ]
    },
    {
      "cell_type": "code",
      "metadata": {
        "id": "BbJe-7AuSK5V",
        "outputId": "b95c19fe-1dd0-4010-e5f4-913b7b8b76d9",
        "colab": {
          "base_uri": "https://localhost:8080/",
          "height": 51
        }
      },
      "source": [
        "#Todo\n",
        "n = int(input(\"Enter a number: \"))\n",
        "sum = 0\n",
        "for r in range(1,n+1):\n",
        "  if r%2==0:\n",
        "    sum -= r**2\n",
        "  else:\n",
        "    sum += r**2\n",
        "print(sum)"
      ],
      "execution_count": 4,
      "outputs": [
        {
          "output_type": "stream",
          "text": [
            "Enter a number: 10\n",
            "-55\n"
          ],
          "name": "stdout"
        }
      ]
    },
    {
      "cell_type": "markdown",
      "metadata": {
        "id": "SgvBqJ9PSK5l"
      },
      "source": [
        "### Task 8\n",
        "Write a Python code of a program that asks the user to enter ten numbers then display the total and the average of **ONLY** the **odd numbers** among those ten numbers. <font color='red'>[Use of list is completely unnecesary for this task]</font>\n",
        "==========================================================\n",
        "\n",
        "**Example01:** \n",
        "\n",
        "**Input:**\\\n",
        "1\n",
        "\n",
        "2\n",
        "\n",
        "3\n",
        "\n",
        "4\n",
        "\n",
        "5\n",
        "\n",
        "6\n",
        "\n",
        "7\n",
        "\n",
        "8\n",
        "\n",
        "9\n",
        "\n",
        "10\n",
        "\n",
        "**Output:**\n",
        "Total is 25 and Average is 5.0\n",
        "\n",
        "\n",
        "**Explanation:**\n",
        "\n",
        "Total is 25 = (1+3+5+7+9) and Average is 25/5 = 5.0\n",
        "\n",
        "==========================================================\n",
        "\n",
        "\n",
        "**Example02:** \n",
        "\n",
        "**Input:**\\\n",
        "-20\n",
        "\n",
        "3\n",
        "\n",
        "-5\n",
        "\n",
        "40\n",
        "\n",
        "-17\n",
        "\n",
        "9\n",
        "\n",
        "20\n",
        "\n",
        "-8\n",
        "\n",
        "99\n",
        "  \n",
        "-200\n",
        "\n",
        "**Output:**\n",
        "\n",
        "Total is 89 and Average is 17.8\n",
        "\n",
        "\n",
        "**Explanation:**\n",
        "\n",
        "Total is 89 =(3+(-5)+(-17)+9+99) and Average is 89/5 = 17.8\n",
        "\n"
      ]
    },
    {
      "cell_type": "code",
      "metadata": {
        "id": "c0akirXXSK5m",
        "outputId": "1ebe80a7-f0c4-4e1c-a1b8-63b60cdae2f7",
        "colab": {
          "base_uri": "https://localhost:8080/",
          "height": 204
        }
      },
      "source": [
        "#Todo\n",
        "sum = 0\n",
        "for r in range(10):\n",
        "  num = int(input(\"Enter a number: \"))\n",
        "  if num%2 != 0:\n",
        "    sum += num\n",
        "print(\"Total is \"+str(sum)+\" and Average is \"+str(sum/5))"
      ],
      "execution_count": null,
      "outputs": [
        {
          "output_type": "stream",
          "text": [
            "1\n",
            "2\n",
            "3\n",
            "4\n",
            "5\n",
            "6\n",
            "7\n",
            "8\n",
            "9\n",
            "10\n",
            "Total is 25 and the Average is 5.0\n"
          ],
          "name": "stdout"
        }
      ]
    },
    {
      "cell_type": "markdown",
      "metadata": {
        "id": "cGdMk_vuSK5s"
      },
      "source": [
        "### Task 9\n",
        "Write a Python code for the following:\n",
        "* Ask the user to enter a Number, N\n",
        "* Display the summation of multiples of 7 up to that number (**from 1 to N inclusive**)\n",
        "\n",
        "==========================================================\n",
        "\n",
        "**Example01:** \n",
        "\n",
        "**Input:**\\\n",
        "50\n",
        "\n",
        "**Output:**\\\n",
        "196\n",
        "\n",
        "**Explanation:**\\\n",
        "7 + 14 + 21 + 28 + 35 + 42 + 49 = 196\n",
        "\n",
        "==========================================================\n",
        "\n",
        "**Example02:** \n",
        "\n",
        "**Input:**\\\n",
        "75\n",
        "\n",
        "**Output:**\\\n",
        "385\n",
        "\n",
        "**Explanation:**\\\n",
        "7 + 14 + 21 + 28 + 35 + 42 + 49 + 56 + 63 + 70 = 385\n",
        "\n",
        "\n",
        "\n"
      ]
    },
    {
      "cell_type": "code",
      "metadata": {
        "id": "zLsrA8dSSK5t",
        "outputId": "583f4c6d-77c3-460a-adee-c6fa988ce3dd",
        "colab": {
          "base_uri": "https://localhost:8080/",
          "height": 51
        }
      },
      "source": [
        "#Todo\n",
        "sum = 0\n",
        "num = int(input(\"Input a number 'N': \"))\n",
        "for r in range(1, num+1):\n",
        "  if r%7 == 0:\n",
        "    sum += r\n",
        "\n",
        "  \n",
        "  \n",
        "print(sum)"
      ],
      "execution_count": 6,
      "outputs": [
        {
          "output_type": "stream",
          "text": [
            "Input a number 'N': 50\n",
            "196\n"
          ],
          "name": "stdout"
        }
      ]
    },
    {
      "cell_type": "markdown",
      "metadata": {
        "id": "OZ9pVIvhSK5w"
      },
      "source": [
        "### Task 10\n",
        "Write a Python code that will read 10 numbers from the user, and then print the first number, the sum of the first 2 numbers, the sum of the first 3 numbers, and so on up to the sum of 10 numbers.\n",
        "\n",
        "==========================================================\n",
        "\n",
        "\n",
        "For example,\n",
        "\n",
        "The user enters 10, output 10, then \\\n",
        "The user enters 2, (10+2) = 12, output 12, then \\\n",
        "The user enters 4, (10+2+4) = 16, output 16, then \\\n",
        "The user enters 20, (10+2+4+20) = 36, output 36, and continuous till the 10$^{th}$ input\n"
      ]
    },
    {
      "cell_type": "code",
      "metadata": {
        "id": "FCwYrfGGSK5w",
        "outputId": "1e3dae26-cde4-4883-e130-d0e7ce897042",
        "colab": {
          "base_uri": "https://localhost:8080/",
          "height": 357
        }
      },
      "source": [
        "#Todo\n",
        "sum = 0\n",
        "\n",
        "for r in range(10):\n",
        "  num = int(input(\"Enter a number: \"))\n",
        "  sum+=num\n",
        "  print(sum)\n",
        "\n",
        "  \n",
        "  "
      ],
      "execution_count": null,
      "outputs": [
        {
          "output_type": "stream",
          "text": [
            "1\n",
            "1\n",
            "1\n",
            "2\n",
            "1\n",
            "3\n",
            "1\n",
            "4\n",
            "1\n",
            "5\n",
            "1\n",
            "6\n",
            "1\n",
            "7\n",
            "1\n",
            "8\n",
            "1\n",
            "9\n",
            "1\n",
            "10\n"
          ],
          "name": "stdout"
        }
      ]
    },
    {
      "cell_type": "markdown",
      "metadata": {
        "id": "dUsVuzILSK50"
      },
      "source": [
        "### Task 11\n",
        "Write a Python program which takes a number and prints the digits from the unit place, then the tenth, then hundredth, etc. <font color='red'>(Right to Left)</font>\n",
        "\n",
        "<font color='red'>[Consider the input number to be an INTEGER]</font>\n",
        "\n",
        "**Example:** If the user gives 32768, then print 8, 6, 7, 2, 3 \n",
        "\n",
        "=========================================================================\n",
        "\n",
        "**Hint:**  The input() function, converts the input data to String data type by default. Use this knowledge to solve this problem.\n",
        "\n"
      ]
    },
    {
      "cell_type": "code",
      "metadata": {
        "id": "6uX3wr_gSK51",
        "outputId": "989909b8-2559-443d-f12d-d7b469cb5ca1",
        "colab": {
          "base_uri": "https://localhost:8080/",
          "height": 51
        }
      },
      "source": [
        "#Todo\n",
        "num = input(\"Enter a number: \")\n",
        "for r in range(-1,-len(num)-1,-1):\n",
        "  if r == (-len(num)):\n",
        "    print(num[r],end=\"\")\n",
        "  else:\n",
        "    print(num[r],end=\",\")\n"
      ],
      "execution_count": 7,
      "outputs": [
        {
          "output_type": "stream",
          "text": [
            "Enter a number: 32768\n",
            "8,6,7,2,3"
          ],
          "name": "stdout"
        }
      ]
    },
    {
      "cell_type": "markdown",
      "metadata": {
        "id": "xWxrM53vvfUV"
      },
      "source": [
        "### Task 12\n",
        "Write a Python program that takes a number from the user and prints its digits from left to right. <font color='red'> (left to right) </font>\n",
        "\n",
        "<font color='red'>[The input number has to be an INTEGER]</font>\n",
        "\n",
        "=========================================================================\n",
        "\n",
        "**Example:** if the user gives 32768, then print 3, 2, 7, 6, 8 \n",
        "\n",
        "=========================================================================\n",
        "\n",
        "**Hint:**  The input() function, converts the input data to String data type by default. Use this knowledge to solve this problem.\n"
      ]
    },
    {
      "cell_type": "code",
      "metadata": {
        "id": "2Ntfdr2tv230",
        "outputId": "47f54378-bd28-4d23-efca-32fbaf3f00b4",
        "colab": {
          "base_uri": "https://localhost:8080/",
          "height": 51
        }
      },
      "source": [
        "#Todo\n",
        "num = input(\"Enter a number: \")\n",
        "for r in range(len(num)):\n",
        "  if r == (len(num)-1):\n",
        "    print(num[r],end=\"\")\n",
        "  else:\n",
        "    print(num[r],end=\",\")"
      ],
      "execution_count": null,
      "outputs": [
        {
          "output_type": "stream",
          "text": [
            "123\n",
            "1,2,3"
          ],
          "name": "stdout"
        }
      ]
    },
    {
      "cell_type": "markdown",
      "metadata": {
        "id": "VIeR6DT9SK53"
      },
      "source": [
        "### Task 13\n",
        "\n",
        "Write a Python program that takes a number and tells how many digits are in that number. \\\n",
        "<font color='red'>[Consider the input number has to be an INTEGER] </font>\n",
        "\n",
        "<font color='red'>You are not allowed to use len() function</font>\n",
        "\n",
        "**Example:** If the user gives 9876, you should print 4. \n",
        "\n",
        "\n",
        "\n",
        "**Hint:** Keep floor dividing by ten and count how many times this could be divided. \n",
        "\n",
        "9876 floor divide by 10, is 987, count that got 1 digit (total 1) \\\n",
        "987 floor divide by 10, is 98, count that got 1 digit (total 2) \\\n",
        "98 floor divide by 10, is 9, count that got 1 digit (total 3) \\\n",
        "9 floor divide by 10, is 0, count that got 1 digit (total 4) \n",
        "\n",
        "Done! (When the number becomes 0 your loop should end.)\n",
        "\n"
      ]
    },
    {
      "cell_type": "code",
      "metadata": {
        "id": "IgqcBx8eSK54",
        "outputId": "eac6e080-98ba-42ef-9a40-e81b2bc09bcb",
        "colab": {
          "base_uri": "https://localhost:8080/",
          "height": 51
        }
      },
      "source": [
        "#Todo\n",
        "num = int(input(\"Enter a number to know how many digits are there in that number: \"))\n",
        "count = 0\n",
        "while num%10!=0:\n",
        "  count+= 1\n",
        "  num = num//10\n",
        "print(count)"
      ],
      "execution_count": null,
      "outputs": [
        {
          "output_type": "stream",
          "text": [
            "9876\n",
            "4\n"
          ],
          "name": "stdout"
        }
      ]
    },
    {
      "cell_type": "markdown",
      "metadata": {
        "id": "fTbwwo3mSK6A"
      },
      "source": [
        "### Task 14\n",
        "\n",
        "Write a Python program that takes a number from the user and prints the divisors of that number and then print how many divisors were there.\n",
        "<font color='red'>[The input number has to be an INTEGER]</font>\n",
        "\n",
        "==========================================================\n",
        "\n",
        "**Example01:** \n",
        "\n",
        "**Input:**\\\n",
        "6\n",
        "\n",
        "**Output:**\\\n",
        "1, 2, 3, 6 \\\n",
        "Total 4 divisors.\n",
        "\n",
        "\n",
        "==========================================================\n",
        "\n",
        "**Example02:** \n",
        "\n",
        "**Input:**\\\n",
        "121\n",
        "\n",
        "**Output:**\\\n",
        "1, 11, 121 \\\n",
        "Total 3 divisors.\n",
        "\n",
        "\n"
      ]
    },
    {
      "cell_type": "code",
      "metadata": {
        "id": "aFSd6sYXSK6A",
        "outputId": "cf12dfeb-7948-4988-b40c-9f191e28b45a",
        "colab": {
          "base_uri": "https://localhost:8080/",
          "height": 68
        }
      },
      "source": [
        "#Todo\n",
        "num = int(input(\"Enter a number to check its devisors : \"))\n",
        "count = 0\n",
        "for r in range(1,num+1):\n",
        "    if (num%r==0):\n",
        "      if (r != num):\n",
        "        print(r,end = \",\")\n",
        "      else:\n",
        "        print(r)\n",
        "      count+=1\n",
        "print(\"Total \"+str(count)+\" devisors\")"
      ],
      "execution_count": null,
      "outputs": [
        {
          "output_type": "stream",
          "text": [
            "Enter a number to check its devisors : 6\n",
            "1,2,3,6\n",
            "Total 4 devisors\n"
          ],
          "name": "stdout"
        }
      ]
    },
    {
      "cell_type": "markdown",
      "metadata": {
        "id": "swvpit_vSK6E"
      },
      "source": [
        "### Task 15\n",
        "Write a Python program that takes a number and tells if it is a perfect number or not. <font color='red'>[The input number has to be an INTEGER]</font>\n",
        "\n",
        "**Perfect Number:** An integer number is said to be a perfect number if its factors, including 1 but not the number itself, sum to the number.\n",
        "\n",
        "==========================================================\n",
        "\n",
        "**Example01:** \n",
        "\n",
        "**Input:**\\\n",
        "6\n",
        "\n",
        "**Output:**\\\n",
        "6 is a perfect number\n",
        "\n",
        "**Explanation:**\\\n",
        "6 have 4 divisors: 1, 2, 3, and 6. \\\n",
        "If we add all factors except itself, 6 = 1 + 2 + 3.\n",
        "\n",
        "==========================================================\n",
        "\n",
        "\n",
        "**Example02:** \n",
        "\n",
        "**Input:**\\\n",
        "20\n",
        "\n",
        "**Output:**\\\n",
        "28 is a perfect number\n",
        "\n",
        "**Explanation:**\\\n",
        "28 have 6 divisors: 1, 2, 4, 7, 14, and 28. \\\n",
        "If we add all factors except itself, 28 = 1 + 2 + 4 + 7 + 14.\n",
        "\n",
        "==========================================================\n",
        "\n",
        "**Example03:** \n",
        "\n",
        "**Input:**\\\n",
        "33\n",
        "\n",
        "**Output:**\\\n",
        "33 is not a perfect number\n",
        "\n",
        "**Explanation:**\\\n",
        "33 have 3 divisors: 1, 3, 11, and 33. \\\n",
        "If we add all factors except itself, 15 = 1 + 3 + 11.\n",
        "\n"
      ]
    },
    {
      "cell_type": "code",
      "metadata": {
        "id": "WxrTdQ67SK6E",
        "outputId": "ea5c99b0-041f-47d9-a7fb-e318c5432b66",
        "colab": {
          "base_uri": "https://localhost:8080/",
          "height": 51
        }
      },
      "source": [
        "#Todo\n",
        "num = int(input(\"Enter a number to check if its perfect or not: \"))\n",
        "count = 0\n",
        "for r in range(1,num+1):\n",
        "    if (num%r==0 and r != num):\n",
        "      count+=r\n",
        "      \n",
        "if (count == num):\n",
        "  print(str(count)+' is a perfect number')\n",
        "else:\n",
        "  print(str(count)+' is not a perfect number')\n",
        "\n"
      ],
      "execution_count": 8,
      "outputs": [
        {
          "output_type": "stream",
          "text": [
            "Enter a number to check if its perfect or not: 28\n",
            "28 is a perfect number\n"
          ],
          "name": "stdout"
        }
      ]
    },
    {
      "cell_type": "markdown",
      "metadata": {
        "id": "JunF6mTuSK6H"
      },
      "source": [
        "### Task 16\n",
        "\n",
        "Write a Python program that asks the user for one number and tells if it is a prime number or not. <font color='red'>[The input number has to be an INTEGER]</font>\n",
        "\n",
        "**Prime Number:** If a number has only two divisors, (1 and itself), then it is prime. If it is divisible by more numbers, then it is not a prime.\n",
        "\n",
        "==========================================================\n",
        "\n",
        "**Hint:** use the divisor count from task 16. \n",
        "\n",
        "==========================================================\n",
        "\n",
        "**Example01:** \n",
        "\n",
        "**Input:**\\\n",
        "11\n",
        "\n",
        "**Output:**\\\n",
        "11 is a prime number\n",
        "\n",
        "**Explanation:**\\\n",
        "11 has only 2 divisors: 1, and 11.\n",
        "\n",
        "==========================================================\n",
        "\n",
        "**Example02:** \n",
        "\n",
        "**Input:**\\\n",
        "6\n",
        "\n",
        "**Output:**\\\n",
        "6 is not a prime number\n",
        "\n",
        "**Explanation:**\\\n",
        "6 have 4 divisors: 1, 2, 3 and 6.\n",
        "\n",
        "\n",
        "\n",
        "\n"
      ]
    },
    {
      "cell_type": "code",
      "metadata": {
        "id": "s_UhmEARSK6I",
        "outputId": "0b04c5eb-9858-4b94-fc33-95eb02707a95",
        "colab": {
          "base_uri": "https://localhost:8080/",
          "height": 51
        }
      },
      "source": [
        "#Todo\n",
        "#Todo\n",
        "num = int(input(\"Enter a number to check if its prime or not: \"))\n",
        "count = 0\n",
        "for r in range(1,num+1):\n",
        "    if (num%r==0):\n",
        "     \n",
        "      count+=1\n",
        "if count >2:\n",
        "  print(str(num)+\" is not a prime number.\")\n",
        "else:\n",
        "  print(str(num)+\" is a prime number.\")\n"
      ],
      "execution_count": null,
      "outputs": [
        {
          "output_type": "stream",
          "text": [
            "121\n",
            "121 is not a prime number.\n"
          ],
          "name": "stdout"
        }
      ]
    },
    {
      "cell_type": "markdown",
      "metadata": {
        "id": "2LrNlU1XSK6L"
      },
      "source": [
        "### Task 17\n",
        "\n",
        "Write a Python program that asks the user for a quantity then takes that many numbers and prints the maximum, minimum and average of those numbers. \n",
        "\n",
        "**<font color='red'>[CANNOT USE MAX,MIN BUILT-IN FUNCTIONS][FOR THIS TASK YOU DO NOT NEED TO USE LISTS]</font>** \n",
        "\n",
        "==========================================================\n",
        "\n",
        "**Example01:** If the user enters 5 as an input for quantity. Then enters 10, 4, -1, -100, and 1. \\\n",
        "Your program output should be: “Maximum 10”, “Minimum -100”, “Average is -17.2”\n",
        "\n",
        "**Input:**\\\n",
        "5\n",
        "10\n",
        "4\n",
        "-1\n",
        "-100\n",
        "1.\n",
        "\n",
        "**Output:**\\\n",
        "Maximum 10\\\n",
        "Minimum -100\\\n",
        "Average is -17.2\n",
        "\n",
        "**Explanation:**\\\n",
        "Average calculation: (10+4 + (-1) + (-100) + 1)/5 = -86/5=-17.2\n",
        "\n"
      ]
    },
    {
      "cell_type": "code",
      "metadata": {
        "id": "TK68v25sSK6L",
        "outputId": "962bd960-ebf2-44cc-e745-47213a956075",
        "colab": {
          "base_uri": "https://localhost:8080/",
          "height": 136
        }
      },
      "source": [
        "#Todo\n",
        "many = int(input(\"How many numbers do you want to work with: \"))\n",
        "sum = 0\n",
        "min = 999999999999999999999999999999999\n",
        "max =-999999999999999999999999999999999\n",
        "\n",
        "for r in range(many):\n",
        "  num = int(input(\"Enter a number of your choice: \"))\n",
        "  \n",
        "  sum += num\n",
        "  if num>max:\n",
        "    max = num\n",
        "  if num<min:\n",
        "    min = num\n",
        "print(\"Maximum \"+str(max))\n",
        "print(\"Minimum \"+str(min))\n",
        "print(\"Average is \"+ str(sum/many))"
      ],
      "execution_count": null,
      "outputs": [
        {
          "output_type": "stream",
          "text": [
            "How many numbers do you want to work with: 3\n",
            "Enter a number of your choice: 1\n",
            "Enter a number of your choice: 2\n",
            "Enter a number of your choice: 3\n",
            "Maximum 3\n",
            "Minimum 1\n",
            "Average is 2.0\n"
          ],
          "name": "stdout"
        }
      ]
    },
    {
      "cell_type": "markdown",
      "metadata": {
        "id": "QLXvNSiOxhlI"
      },
      "source": [
        "## Task 18\n",
        "\n",
        "Write a python program that prints a square of size N using + where N will be given as input.\n",
        "\n",
        "=======================================\n",
        "\n",
        "**Sample Input**\n",
        "5\n",
        "\n",
        "**Sample Output**<br>\n",
        "+++++<br>\n",
        "+++++<br>\n",
        "+++++<br>\n",
        "+++++<br>\n",
        "+++++<br>\n",
        "\n",
        "\n",
        "=======================================\n",
        "\n",
        "**Sample Input**\n",
        "3\n",
        "\n",
        "**Sample Output**<br>\n",
        "+++<br>\n",
        "+++<br>\n",
        "+++<br>"
      ]
    },
    {
      "cell_type": "code",
      "metadata": {
        "id": "nuU0BJmQwsSa",
        "outputId": "e81bde3c-76c6-46cc-c0f1-b744a75e1822",
        "colab": {
          "base_uri": "https://localhost:8080/",
          "height": 119
        }
      },
      "source": [
        "#Todo\n",
        "num = int(input(\"Enter number: \"))\n",
        "for r in range(num):\n",
        "  for r in range(num):\n",
        "    print(\"+\",end=\"\")\n",
        "  print(\"\")"
      ],
      "execution_count": null,
      "outputs": [
        {
          "output_type": "stream",
          "text": [
            "Enter number: 5\n",
            "+++++\n",
            "+++++\n",
            "+++++\n",
            "+++++\n",
            "+++++\n"
          ],
          "name": "stdout"
        }
      ]
    },
    {
      "cell_type": "markdown",
      "metadata": {
        "id": "9tK1-MjFwqM-"
      },
      "source": [
        "### Task 19\n",
        "\n",
        "Write a python program that prints a rectangle of size M (height/line numbers) and N(length/column numbers) using incrementing numbers where M,N will be given as input.\n",
        "\n",
        "===================================\n",
        "\n",
        "**Sample Input**\n",
        "4,6\n",
        "\n",
        "**Sample Output**<br>\n",
        "123456<br>\n",
        "123456<br>\n",
        "123456<br>\n",
        "123456<br>\n",
        "\n",
        "\n",
        "===================================\n",
        "\n",
        "\n",
        "**Sample Input**\n",
        "3,2\n",
        "\n",
        "**Sample Output**<br>\n",
        "12<br>\n",
        "12<br>\n",
        "12<br>\n"
      ]
    },
    {
      "cell_type": "code",
      "metadata": {
        "id": "KcyhD8gNxYdi",
        "outputId": "6b33f870-77e9-42fe-f88b-98f655ea3fc8",
        "colab": {
          "base_uri": "https://localhost:8080/",
          "height": 102
        }
      },
      "source": [
        "#Todo\n",
        "num = input(\"Enter two number separated by ','. eg.2,3 : \")\n",
        "for r in range(int( num[0])):\n",
        "  for r in range(int( num[2])):\n",
        "    print(str(r+1),end=\"\")\n",
        "  print(\"\")"
      ],
      "execution_count": 9,
      "outputs": [
        {
          "output_type": "stream",
          "text": [
            "Enter two number separated by ','. eg.2,3 : 4,5\n",
            "12345\n",
            "12345\n",
            "12345\n",
            "12345\n"
          ],
          "name": "stdout"
        }
      ]
    },
    {
      "cell_type": "markdown",
      "metadata": {
        "id": "ReUpRcLuw0_b"
      },
      "source": [
        "### Task 20\n",
        "\n",
        "Write a python program that prints a right angled triangle of height N using incrementing numbers where N will be given as input.\n",
        "\n",
        "====================================\n",
        "\n",
        "**Sample Input**\n",
        "4\n",
        "\n",
        "**Sample Output**<br>\n",
        "1<br>\n",
        "12<br>\n",
        "123<br>\n",
        "1234<br>\n",
        "\n",
        "====================================\n",
        "\n",
        "**Sample Input**\n",
        "5\n",
        "\n",
        "**Sample Output**<br>\n",
        "1<br>\n",
        "12<br>\n",
        "123<br>\n",
        "1234<br>\n",
        "12345<br>"
      ]
    },
    {
      "cell_type": "code",
      "metadata": {
        "id": "UtqBxocnxai9",
        "outputId": "b62ccf49-006f-467e-d770-6883676b98ed",
        "colab": {
          "base_uri": "https://localhost:8080/",
          "height": 136
        }
      },
      "source": [
        "#Todo\n",
        "num = int(input(\"Enter number: \"))\n",
        "for r in range(1,num+1):\n",
        "  for n in range(1,r+1):\n",
        "    print(n,end=\"\")\n",
        "  print(\"\")"
      ],
      "execution_count": null,
      "outputs": [
        {
          "output_type": "stream",
          "text": [
            "Enter number: 6\n",
            "1\n",
            "12\n",
            "123\n",
            "1234\n",
            "12345\n",
            "123456\n"
          ],
          "name": "stdout"
        }
      ]
    },
    {
      "cell_type": "markdown",
      "metadata": {
        "id": "AWbbbs5mSK6O"
      },
      "source": [
        "## Optional Tasks (21 -26) [Ungraded]"
      ]
    },
    {
      "cell_type": "markdown",
      "metadata": {
        "id": "a0SjEWlsw6Vt"
      },
      "source": [
        "### Task 21\n",
        "\n",
        "Write a python program that prints all the fibonacci number from 0 to N where N will be given. \n",
        "\n",
        "**A Fibonacci number is a number which is the summation of its previous two fibonacci number.**\n",
        "\n",
        "First two fibonacci number are 0 and 1. So the 3rd Fib will be 0+1=1, 4th Fib will be 1+1=2, 5th Fib will be 1+2=3 and so on.\n",
        "\n",
        "==============================\n",
        "\n",
        "**Sample Input**<br>\n",
        "10\n",
        "\n",
        "**Sample Output**<br>\n",
        "0 1 1 2 3 5 8\n",
        "\n",
        "==============================\n",
        "\n",
        "\n",
        "**Sample Input**<br>\n",
        "15\n",
        "\n",
        "**Sample Output**<br>\n",
        "0 1 1 2 3 5 8 13"
      ]
    },
    {
      "cell_type": "code",
      "metadata": {
        "id": "vQhQFFBWx-h0",
        "outputId": "64654ddc-1af8-44b9-fc63-f2d839ee0a4b",
        "colab": {
          "base_uri": "https://localhost:8080/",
          "height": 51
        }
      },
      "source": [
        "#Todo\n",
        "num = int(input(\"\"))\n",
        "current = 0\n",
        "previous = 0\n",
        "buffer = 0\n",
        "count = 0\n",
        "while current < num and previous < num:\n",
        "  \n",
        "  if count == 0:\n",
        "    print(0,end=\" \")\n",
        "  elif count ==1:\n",
        "    print(1,end=\" \")\n",
        "  elif count ==2:\n",
        "    \n",
        "    previous = 1\n",
        "    print(1,end=\" \")\n",
        "    current = 2\n",
        "  else:\n",
        "    print(current,end=\" \")\n",
        "    buffer = previous\n",
        "    previous = current\n",
        "    current = previous + buffer\n",
        "    \n",
        "  count+=1\n",
        "  \n"
      ],
      "execution_count": 10,
      "outputs": [
        {
          "output_type": "stream",
          "text": [
            "15\n",
            "0 1 1 2 3 5 8 13 "
          ],
          "name": "stdout"
        }
      ]
    },
    {
      "cell_type": "markdown",
      "metadata": {
        "id": "bByH1fWsw7av"
      },
      "source": [
        "### Task 22\n",
        "\n",
        "Write a python program that converts a Decimal Integer number to a Boolean Number. \n",
        "\n",
        "**A decimal can be converted to a binary number by keeping track of the remainders after each division of that number by 2. **\n",
        "\n",
        "================================\n",
        "\n",
        "For example, to convert 10 to a binary number, we can follow the following approach\n",
        "\n",
        "10/2 = 5 (Remainder 0) \n",
        "<br>5/2 = 2 (Remainder 1) \n",
        "<br>2/2 = 1 (Remainder 0) \n",
        "<br>1/2 = 0 (Remainder 1) \n",
        "\n",
        "Take the remainders from bottom to top, which is, 1010. Binary of 10 is 1010.\n",
        "\n",
        "**Sample Input** <br>\n",
        "10\n",
        "\n",
        "**Sample Output**<br>\n",
        "1010\n",
        "\n",
        "================================\n",
        "\n",
        "For example, to convert 13 to a binary number, we can follow the following approach\n",
        "\n",
        "13/2 = 6 (Remainder 1) \n",
        "<br>6/2 = 3 (Remainder 0) \n",
        "<br>3/2 = 1 (Remainder 1) \n",
        "<br>1/2 = 0 (Remainder 1) \n",
        "\n",
        "Take the remainders from bottom to top, which is, 1101. Binary of 13 is 1101.\n",
        "\n",
        "**Sample Input** <br>\n",
        "13\n",
        "\n",
        "**Sample Output**<br>\n",
        "1101"
      ]
    },
    {
      "cell_type": "code",
      "metadata": {
        "id": "AEXGx3skyBha",
        "outputId": "b9f34cbb-ac00-4a4c-f607-efc9ff4f6ac3",
        "colab": {
          "base_uri": "https://localhost:8080/",
          "height": 51
        }
      },
      "source": [
        "#Todo\n",
        "qution = \"\"\n",
        "remainder = 0\n",
        "num = int(input(\"Enter a number:\"))\n",
        "arr = []\n",
        "while qution !=0:\n",
        "  qution = num//2\n",
        "  remainder = num%2\n",
        "  arr.append(remainder)\n",
        "  num =  qution\n",
        "for r in range(len(arr)-1,-1,-1):\n",
        "  print(arr[r],end = \"\")"
      ],
      "execution_count": null,
      "outputs": [
        {
          "output_type": "stream",
          "text": [
            "Enter a number:13\n",
            "1101"
          ],
          "name": "stdout"
        }
      ]
    },
    {
      "cell_type": "markdown",
      "metadata": {
        "id": "g_aR1Ozgw_rr"
      },
      "source": [
        "### Task 23\n",
        "\n",
        "Write a python program that converts a Binary number to a Decimal Integer Number. \n",
        "\n",
        "**A binary number can be converted to its corresponding decimal number by multiplying each binary digit with a power of 2 where the power denotes the position of the binary digit**\n",
        "\n",
        "========================================\n",
        "\n",
        "For example, to convert 1010, we can do this -\n",
        "\n",
        "\n",
        "$2^{3}$ x 1 + $2^{2}$ x 0 + $2^{1}$ x 1 + $2^{0}$ x 0 = 10\n",
        "\n",
        "\n",
        "**Sample Input** <br>\n",
        "1010\n",
        "\n",
        "**Sample Output** <br>\n",
        "10\n",
        "\n",
        "========================================\n",
        "\n",
        "For example, to convert 1101, we can do this -\n",
        "\n",
        "\n",
        "$2^{3}$ x 1 + $2^{2}$ x 1 + $2^{1}$ x 0 + $2^{0}$ x 1 = 13\n",
        "\n",
        "\n",
        "**Sample Input** <br>\n",
        "1101\n",
        "\n",
        "**Sample Output** <br>\n",
        "13"
      ]
    },
    {
      "cell_type": "code",
      "metadata": {
        "id": "ZZmhMI6VyCky",
        "outputId": "de304993-7571-4eff-d39a-c981a5dd78c7",
        "colab": {
          "base_uri": "https://localhost:8080/",
          "height": 51
        }
      },
      "source": [
        "#Todo\n",
        "\n",
        "#authentication\n",
        "num = input(\"Enter a binary number:\")\n",
        "isBinary = False\n",
        "while isBinary == False:\n",
        "  isBinary = True\n",
        "  for r in num:\n",
        "    if  (r ==\"0\" or r==\"1\"):\n",
        "      pass\n",
        "    else:\n",
        "      isBinary = False\n",
        "  if (isBinary == False):\n",
        "    num = input(\"Enter a binary number:\")\n",
        "  \n",
        "#calculating the denary\n",
        "sum = 0\n",
        "count =0\n",
        "for r in range(len(num)-1,-1,-1):\n",
        "  # print(\"r=\"+str(r))\n",
        "  # print(\"arr[r]=\"+str(num[r]))\n",
        "\n",
        "  sum += int(num[r])*(2**count)\n",
        "  count+=1\n",
        "# print(num)\n",
        "print(sum)"
      ],
      "execution_count": null,
      "outputs": [
        {
          "output_type": "stream",
          "text": [
            "Enter a binary number:1010\n",
            "10\n"
          ],
          "name": "stdout"
        }
      ]
    },
    {
      "cell_type": "markdown",
      "metadata": {
        "id": "GymIX5_vSK6Q"
      },
      "source": [
        "### Task 24\n",
        "\n",
        "Take five numbers from the user and find the minimum and the average of **only the even** numbers entered by the user. [If the user enters odd numbers ignore them] \n",
        "\n",
        "**<font color='red'>[CANNOT USE MAX,MIN BUILT-IN FUNCTIONS] [FOR THIS TASK YOU DO NOT NEED TO USE LISTS]</font>** \n",
        "\n",
        "Assume, the first input is always an even number.\n",
        "\n",
        "============================================================\n",
        "\n",
        "**Example01:** If the user enters 10, 4, -1, -100, and 1. \\\n",
        "Output: “Minimum -100”, “Average is 28.66667”\n",
        "\n",
        "**Input:**\\\n",
        "10\n",
        "\n",
        "4\n",
        "\n",
        "-1\n",
        "\n",
        "-100\n",
        "\n",
        "1\n",
        "\n",
        "**Output:**\\\n",
        "Minimum -100\\\n",
        "Average is 28.66667\n",
        "\n",
        "**Explanation:**\\\n",
        "Average calculation: (10+4 + (-100))/3 = -86/3=-28.66667\n",
        "\n",
        "============================================================\n",
        "\n",
        "**Example02:** If the user enters 2, 10, 1, 21, and 3. \\\n",
        "Output: Minimum 2”, “Average is 6.0”\n",
        "\n",
        "**Input:**\\\n",
        "2\n",
        "\n",
        "10\n",
        "\n",
        "1\n",
        "\n",
        "21\n",
        "\n",
        "3\n",
        "\n",
        "**Output:**\\\n",
        "Minimum 2\\\n",
        "Average is 6.0\n",
        "\n",
        "**Explanation:**\\\n",
        "Average calculation: (2+10)/2 = 12/2= 6\n",
        "\n",
        "\n",
        "\n"
      ]
    },
    {
      "cell_type": "code",
      "metadata": {
        "id": "CnrBzeq1SK6R",
        "outputId": "d4bb3235-917c-41e2-b7a6-54c24497e820",
        "colab": {
          "base_uri": "https://localhost:8080/",
          "height": 136
        }
      },
      "source": [
        "#Todo\n",
        "sum = 0\n",
        "count = 0\n",
        "min = 999999999999999999999999999999999999999999999999999999999999999999999999999999999999999\n",
        "\n",
        "for r in range(5):\n",
        "  num = int(input(\"Enter a number: \"))\n",
        "  if num%2 == 0:\n",
        "    sum += num\n",
        "    count += 1\n",
        "  if min>num:\n",
        "    min = num\n",
        "if count ==0:\n",
        "  count =1\n",
        "print(\"Minimum \"+str(min))\n",
        "print(\"Average is \"+str(sum/count))"
      ],
      "execution_count": null,
      "outputs": [
        {
          "output_type": "stream",
          "text": [
            "Enter a number: 5\n",
            "Enter a number: 6\n",
            "Enter a number: 6\n",
            "Enter a number: 6\n",
            "Enter a number: 6\n",
            "Minimum 5\n",
            "Average is 6.0\n"
          ],
          "name": "stdout"
        }
      ]
    },
    {
      "cell_type": "markdown",
      "metadata": {
        "id": "F2iSIEcHSK6U"
      },
      "source": [
        "### Task 25\n",
        "\n",
        "Write a Python code for the following:\n",
        "* Ask the user to enter a number, N (Total number of inputs to be taken). Assume that the user will never enter the first number as zero.\n",
        "* Take N number of inputs\n",
        "* Prints out the product of all the numbers read\n",
        "\n",
        "For example, if the first input is 4, then the program has to read in four numbers from the user and print the product of these four numbers. \n",
        "\n",
        "=========================================================================\n",
        "\n",
        "**Example01:**\n",
        "\n",
        "**Input:**\\\n",
        "5 \n",
        "\n",
        "10 \n",
        "\n",
        "6 \n",
        "\n",
        "4 \n",
        "\n",
        "2 \n",
        "\n",
        "1 \n",
        "\n",
        "**Output:**\\\n",
        "480\n",
        "\n",
        "**Explanation:**\\\n",
        "5 is the total number of inputs taken. Then, the calculation should be 10 X 6 X 4 X 2 X 1 = 480 \n",
        "\n",
        "\n",
        "\n",
        "\n",
        "\n"
      ]
    },
    {
      "cell_type": "code",
      "metadata": {
        "id": "NFDi7tjZSK6U",
        "outputId": "421ea175-9f0e-46be-d730-7f0e41af899f",
        "colab": {
          "base_uri": "https://localhost:8080/",
          "height": 136
        }
      },
      "source": [
        "#Todo\n",
        "product = 1\n",
        "n = int(input(\"enter a number: \"))\n",
        "\n",
        "for r in range(n):\n",
        "  num = int(input(\"Enter a number: \"))\n",
        "  product *= num\n",
        "print(product)\n"
      ],
      "execution_count": null,
      "outputs": [
        {
          "output_type": "stream",
          "text": [
            "enter a number: 5\n",
            "Enter a number: 6\n",
            "Enter a number: 1\n",
            "Enter a number: 1\n",
            "Enter a number: 1\n",
            "Enter a number: 1\n",
            "6\n"
          ],
          "name": "stdout"
        }
      ]
    },
    {
      "cell_type": "markdown",
      "metadata": {
        "id": "1Ef3zxQsSK6Y"
      },
      "source": [
        "### Task 26\n",
        "Ask the user for a range (a starting number and an ending number). \n",
        "**Count** how many numbers are prime numbers and how many numbers are perfect numbers between that range and **print** those numbers. \n",
        "\n",
        "\n",
        "=========================================================================\n",
        "\n",
        "**Hint (1):** Declare two strings/lists to store the prime and perfect numbers. Inside the iteration store the values of the prime and perfect numbers in the pre- declared variables.\n",
        "\n",
        "**Hint (2):**\n",
        "Need to use string concat.\n",
        "\n",
        "ans = \"Prime numbers:\"\\\n",
        "prime_value = 11\n",
        "\n",
        "ans = ans + str(11)\n",
        "\n",
        "print(ans)\n",
        "\n",
        "ans = ans + str(13) \n",
        "\n",
        "print(ans)\n",
        "\n",
        "\n",
        "=========================================================================\n",
        "\n",
        "**Example:**between 2 and 6, there are 3 prime numbers (2, 3, 5) and 1 perfect number (6). \n",
        "\n",
        "**Input:**\\\n",
        "2\n",
        "\n",
        "6\n",
        "\n",
        "**Output:**\\\n",
        "Between 2 and 6,\\\n",
        "Found 3 prime numbers \\\n",
        "Found 1 perfect number.\\\n",
        "Prime numbers: 2, 3, 5.\\\n",
        "Perfect numbers: 6.\n",
        "\n"
      ]
    },
    {
      "cell_type": "code",
      "metadata": {
        "id": "_YU9xdPBSK6Y",
        "outputId": "ab118301-22c8-4e05-890f-f6679c50179d",
        "colab": {
          "base_uri": "https://localhost:8080/",
          "height": 153
        }
      },
      "source": [
        "#Todo\n",
        "num1 = int(input(\"enter a number: \"))\n",
        "num2 = int(input(\"enter another number: \"))\n",
        "strPerfect = \"\"\n",
        "strPrime = \"\"\n",
        "for r in range(num1,num2+1,1):\n",
        "  num = r\n",
        "  countPerfect = 0\n",
        "  for r in range(1,num+1):\n",
        "      if (num%r==0 and r != num):\n",
        "        countPerfect+=r\n",
        "        \n",
        "  if (countPerfect == num):\n",
        "    \n",
        "    if len(strPerfect)>=1:\n",
        "      strPerfect += \", \"+str(r)\n",
        "    else:\n",
        "      \n",
        "      strPerfect += str(r)\n",
        "  \n",
        "\n",
        "\n",
        "  num = r\n",
        "  countPrime = 0\n",
        "  for r in range(1,num+1):\n",
        "      if (num%r==0):\n",
        "      \n",
        "        countPrime+=1\n",
        "  if countPrime <=2:\n",
        "    if len(strPrime)>=1:\n",
        "      strPrime += \", \"+str(r)\n",
        "    else:\n",
        "      strPrime += str(r)\n",
        "  \n",
        "# Between 2 and 6,\n",
        "# Found 3 prime numbers\n",
        "# Found 1 perfect number.\n",
        "# Prime numbers: 2, 3, 5.\n",
        "# Perfect numbers: 6.\n",
        "print(\"Between \"+str(num1)+\" and \"+str(num2)+\",\")\n",
        "print(\"Found \"+str(countPrime)+\" prime numbers\")\n",
        "print(\"Found \"+str(countPerfect)+\" perfect number.\")\n",
        "print(\"Prime numbers: \"+strPrime)\n",
        "print(\"Perfect numbers: \"+strPerfect)\n"
      ],
      "execution_count": null,
      "outputs": [
        {
          "output_type": "stream",
          "text": [
            "enter a number: 1\n",
            "enter another number: 100\n",
            "0\n",
            "Between 1 and 100,\n",
            "Found 9 prime numbers\n",
            "Found 117 perfect number.\n",
            "Prime numbers: 1, 2, 3, 5, 7, 11, 13, 17, 19, 23, 29, 31, 37, 41, 43, 47, 53, 59, 61, 67, 71, 73, 79, 83, 89, 97\n",
            "Perfect numbers: 6, 28\n"
          ],
          "name": "stdout"
        }
      ]
    }
  ]
}